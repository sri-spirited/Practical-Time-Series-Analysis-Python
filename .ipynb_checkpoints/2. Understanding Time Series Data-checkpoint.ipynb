{
 "cells": [
  {
   "cell_type": "markdown",
   "metadata": {},
   "source": [
    "# Date & Time objects in Python"
   ]
  },
  {
   "cell_type": "markdown",
   "metadata": {},
   "source": [
    "### Native python dates & times: datetime and dateutil"
   ]
  },
  {
   "cell_type": "markdown",
   "metadata": {},
   "source": [
    "Python's basic objects for working with dates & times reside in the built-in `datetime` module.\n",
    "\n",
    "Along with the `dateutil` module, you can perform a range of tasks on dates and times."
   ]
  },
  {
   "cell_type": "code",
   "execution_count": 1,
   "metadata": {},
   "outputs": [],
   "source": [
    "# Manually building a date \n",
    "from datetime import datetime"
   ]
  },
  {
   "cell_type": "code",
   "execution_count": 2,
   "metadata": {},
   "outputs": [
    {
     "data": {
      "text/plain": [
       "datetime.datetime(2019, 3, 31, 0, 0)"
      ]
     },
     "execution_count": 2,
     "metadata": {},
     "output_type": "execute_result"
    }
   ],
   "source": [
    "datetime(year=2019, month=3, day=31)"
   ]
  },
  {
   "cell_type": "code",
   "execution_count": 3,
   "metadata": {},
   "outputs": [],
   "source": [
    "# Parse dates from a string format\n",
    "from dateutil import parser"
   ]
  },
  {
   "cell_type": "code",
   "execution_count": 15,
   "metadata": {},
   "outputs": [
    {
     "data": {
      "text/plain": [
       "datetime.datetime(2019, 6, 24, 0, 0)"
      ]
     },
     "execution_count": 15,
     "metadata": {},
     "output_type": "execute_result"
    }
   ],
   "source": [
    "date = parser.parse('24th of June, 2019')\n",
    "date"
   ]
  },
  {
   "cell_type": "code",
   "execution_count": 17,
   "metadata": {},
   "outputs": [
    {
     "data": {
      "text/plain": [
       "'Monday'"
      ]
     },
     "execution_count": 17,
     "metadata": {},
     "output_type": "execute_result"
    }
   ],
   "source": [
    "#print day of week\n",
    "datetime.strftime(date, \"%A\")"
   ]
  },
  {
   "cell_type": "markdown",
   "metadata": {},
   "source": [
    "Datetime behavior: \n",
    "\n",
    "[https://docs.python.org/3/library/datetime.html#strftime-and-strptime-behavior]\n",
    "\n",
    "* `strftime` -> Create string from time \n",
    "* `strptime` -> Create datetime object from string"
   ]
  },
  {
   "cell_type": "markdown",
   "metadata": {},
   "source": [
    "### Typed time arrays: NumPy's datetime64\n",
    "\n",
    "NumPy's native time series data \n",
    "`datetime64` dtype encodes dates as 64-bit integers and allows compact representation "
   ]
  },
  {
   "cell_type": "code",
   "execution_count": 18,
   "metadata": {},
   "outputs": [],
   "source": [
    "import numpy as np"
   ]
  },
  {
   "cell_type": "code",
   "execution_count": 22,
   "metadata": {},
   "outputs": [
    {
     "data": {
      "text/plain": [
       "array('2015-06-24', dtype='datetime64[D]')"
      ]
     },
     "execution_count": 22,
     "metadata": {},
     "output_type": "execute_result"
    }
   ],
   "source": [
    "date = np.array('2015-06-24', dtype=np.datetime64)\n",
    "date"
   ]
  },
  {
   "cell_type": "code",
   "execution_count": 23,
   "metadata": {},
   "outputs": [
    {
     "data": {
      "text/plain": [
       "array(['2015-06-24', '2015-06-25', '2015-06-26', '2015-06-27',\n",
       "       '2015-06-28', '2015-06-29', '2015-06-30', '2015-07-01',\n",
       "       '2015-07-02', '2015-07-03', '2015-07-04', '2015-07-05'],\n",
       "      dtype='datetime64[D]')"
      ]
     },
     "execution_count": 23,
     "metadata": {},
     "output_type": "execute_result"
    }
   ],
   "source": [
    "# Vectorized operation on numpy dates: \n",
    "date + np.arange(12)"
   ]
  },
  {
   "cell_type": "code",
   "execution_count": 29,
   "metadata": {},
   "outputs": [
    {
     "data": {
      "text/plain": [
       "numpy.datetime64('2015-06-24T15:21:59.500000000')"
      ]
     },
     "execution_count": 29,
     "metadata": {},
     "output_type": "execute_result"
    }
   ],
   "source": [
    "# up to nanoseconds \n",
    "np.datetime64('2015-06-24 15:21:59.50', 'ns')"
   ]
  },
  {
   "cell_type": "markdown",
   "metadata": {},
   "source": [
    "Available Datetime units (format codes):\n",
    "[https://docs.scipy.org/doc/numpy/reference/arrays.datetime.html]"
   ]
  },
  {
   "cell_type": "markdown",
   "metadata": {},
   "source": [
    "### Pandas dates and times"
   ]
  },
  {
   "cell_type": "markdown",
   "metadata": {},
   "source": [
    "* `datetime` and `dateutil` -> Ease of use \n",
    "* 'numpy.datetime64` -> Efficient storage, vectorised interface \n",
    "\n",
    "`pandas timestamp` object combines both.\n",
    "\n",
    "Used to construct a `DateTimeIndex` that can be used to index data in a `Series` or a `DataFrame`"
   ]
  },
  {
   "cell_type": "code",
   "execution_count": 31,
   "metadata": {},
   "outputs": [],
   "source": [
    "import pandas as pd"
   ]
  },
  {
   "cell_type": "code",
   "execution_count": 36,
   "metadata": {},
   "outputs": [],
   "source": [
    "date = pd.to_datetime('1st of June 2019')"
   ]
  },
  {
   "cell_type": "code",
   "execution_count": 33,
   "metadata": {},
   "outputs": [
    {
     "data": {
      "text/plain": [
       "'Monday'"
      ]
     },
     "execution_count": 33,
     "metadata": {},
     "output_type": "execute_result"
    }
   ],
   "source": [
    "date.strftime('%A')"
   ]
  },
  {
   "cell_type": "code",
   "execution_count": 34,
   "metadata": {},
   "outputs": [],
   "source": [
    "# Vectorized operations \n",
    "# Create a series of daily dates"
   ]
  },
  {
   "cell_type": "code",
   "execution_count": 37,
   "metadata": {},
   "outputs": [
    {
     "data": {
      "text/plain": [
       "DatetimeIndex(['2019-06-01 00:00:00', '2019-07-01 10:29:06',\n",
       "               '2019-07-31 20:58:12', '2019-08-31 07:27:18',\n",
       "               '2019-09-30 17:56:24', '2019-10-31 04:25:30',\n",
       "               '2019-11-30 14:54:36', '2019-12-31 01:23:42',\n",
       "               '2020-01-30 11:52:48', '2020-02-29 22:21:54',\n",
       "               '2020-03-31 08:51:00', '2020-04-30 19:20:06'],\n",
       "              dtype='datetime64[ns]', freq=None)"
      ]
     },
     "execution_count": 37,
     "metadata": {},
     "output_type": "execute_result"
    }
   ],
   "source": [
    "date + pd.to_timedelta(np.arange(12), 'M')"
   ]
  },
  {
   "cell_type": "markdown",
   "metadata": {},
   "source": [
    "## Pandas TimeSeries: Indexing by Time"
   ]
  },
  {
   "cell_type": "code",
   "execution_count": 39,
   "metadata": {},
   "outputs": [
    {
     "data": {
      "text/plain": [
       "2019-01-01    1\n",
       "2019-02-01    2\n",
       "2019-03-01    3\n",
       "2019-04-01    4\n",
       "dtype: int64"
      ]
     },
     "execution_count": 39,
     "metadata": {},
     "output_type": "execute_result"
    }
   ],
   "source": [
    "index = pd.DatetimeIndex(['2019-01-01', '2019-02-01', '2019-03-01', '2019-04-01'])\n",
    "data = pd.Series([1,2,3,4], index = index)\n",
    "data"
   ]
  },
  {
   "cell_type": "code",
   "execution_count": 40,
   "metadata": {},
   "outputs": [
    {
     "data": {
      "text/plain": [
       "2"
      ]
     },
     "execution_count": 40,
     "metadata": {},
     "output_type": "execute_result"
    }
   ],
   "source": [
    "# Indexing patterns \n",
    "data['2019-02-01']"
   ]
  },
  {
   "cell_type": "code",
   "execution_count": 41,
   "metadata": {},
   "outputs": [
    {
     "data": {
      "text/plain": [
       "2019-02-01    2\n",
       "2019-03-01    3\n",
       "2019-04-01    4\n",
       "dtype: int64"
      ]
     },
     "execution_count": 41,
     "metadata": {},
     "output_type": "execute_result"
    }
   ],
   "source": [
    "data['2019-02-01':'2019-04-01']"
   ]
  },
  {
   "cell_type": "code",
   "execution_count": 45,
   "metadata": {},
   "outputs": [
    {
     "data": {
      "text/plain": [
       "2019-01-01    1\n",
       "2019-02-01    2\n",
       "2019-03-01    3\n",
       "2019-04-01    4\n",
       "dtype: int64"
      ]
     },
     "execution_count": 45,
     "metadata": {},
     "output_type": "execute_result"
    }
   ],
   "source": [
    "data['2019']"
   ]
  },
  {
   "cell_type": "markdown",
   "metadata": {},
   "source": [
    "Fundamental Pandas data structures for time series:\n",
    "* For _time stamps_: `TimeStamp` type, which is based on numpy.datetime64. Associated index structure is DatetimeIndex \n",
    "* For _time periods_: `Period` type. Encodes a fixed frequency interval based on numpy.datetime64. Associated index structure is `PeriodIndex`\n",
    "* For _time deltas_ or duations: `Timedelta` type. Based on numpy.timedelta64, associated index structure is `TimedeltaIndex`"
   ]
  },
  {
   "cell_type": "code",
   "execution_count": 47,
   "metadata": {},
   "outputs": [
    {
     "data": {
      "text/plain": [
       "DatetimeIndex(['2015-07-03', '2015-07-04', '2015-07-06', '2015-07-07',\n",
       "               '2015-07-08'],\n",
       "              dtype='datetime64[ns]', freq=None)"
      ]
     },
     "execution_count": 47,
     "metadata": {},
     "output_type": "execute_result"
    }
   ],
   "source": [
    "dates = pd.to_datetime([datetime(2015, 7, 3), '4th of July, 2015', '2015-Jul-6', '07-07-2015', '20150708'])\n",
    "dates"
   ]
  },
  {
   "cell_type": "markdown",
   "metadata": {},
   "source": [
    "A `DateTimeIndex` can be converted to a `PeriodIndex` with the `to_period` function, with addition of a frequency code. \n",
    "\n",
    "e.g. here: 'D' = 'Daily'"
   ]
  },
  {
   "cell_type": "code",
   "execution_count": 48,
   "metadata": {},
   "outputs": [
    {
     "data": {
      "text/plain": [
       "PeriodIndex(['2015-07-03', '2015-07-04', '2015-07-06', '2015-07-07',\n",
       "             '2015-07-08'],\n",
       "            dtype='period[D]', freq='D')"
      ]
     },
     "execution_count": 48,
     "metadata": {},
     "output_type": "execute_result"
    }
   ],
   "source": [
    "dates.to_period(freq='D')"
   ]
  },
  {
   "cell_type": "code",
   "execution_count": 50,
   "metadata": {},
   "outputs": [
    {
     "data": {
      "text/plain": [
       "TimedeltaIndex(['0 days', '1 days', '3 days', '4 days', '5 days'], dtype='timedelta64[ns]', freq=None)"
      ]
     },
     "execution_count": 50,
     "metadata": {},
     "output_type": "execute_result"
    }
   ],
   "source": [
    "# Creating a TimedeltaIndex \n",
    "dates - dates[0]"
   ]
  },
  {
   "cell_type": "markdown",
   "metadata": {},
   "source": [
    "## Regular sequences: \n",
    "* `pd.date_range()` for timestamps \n",
    "* `pd.period_range()` for period \n",
    "* `pd.timedelta_range()` for time deltas "
   ]
  },
  {
   "cell_type": "code",
   "execution_count": 51,
   "metadata": {},
   "outputs": [
    {
     "data": {
      "text/plain": [
       "DatetimeIndex(['2019-06-30', '2019-07-31', '2019-08-31', '2019-09-30',\n",
       "               '2019-10-31', '2019-11-30'],\n",
       "              dtype='datetime64[ns]', freq='M')"
      ]
     },
     "execution_count": 51,
     "metadata": {},
     "output_type": "execute_result"
    }
   ],
   "source": [
    "# Sequence of Datetime by start and end \n",
    "pd.date_range(start='2019-06-01', end='2019-12-01', freq='M')"
   ]
  },
  {
   "cell_type": "code",
   "execution_count": 53,
   "metadata": {},
   "outputs": [
    {
     "data": {
      "text/plain": [
       "DatetimeIndex(['2019-06-30', '2019-07-31', '2019-08-31', '2019-09-30',\n",
       "               '2019-10-31', '2019-11-30', '2019-12-31'],\n",
       "              dtype='datetime64[ns]', freq='M')"
      ]
     },
     "execution_count": 53,
     "metadata": {},
     "output_type": "execute_result"
    }
   ],
   "source": [
    "# Sequence of Datetime by periods \n",
    "pd.date_range('2019-06-01', freq='M', periods=7)"
   ]
  },
  {
   "cell_type": "code",
   "execution_count": 55,
   "metadata": {},
   "outputs": [
    {
     "data": {
      "text/plain": [
       "PeriodIndex(['2019-06-01', '2019-06-02', '2019-06-03', '2019-06-04',\n",
       "             '2019-06-05', '2019-06-06', '2019-06-07', '2019-06-08'],\n",
       "            dtype='period[D]', freq='D')"
      ]
     },
     "execution_count": 55,
     "metadata": {},
     "output_type": "execute_result"
    }
   ],
   "source": [
    "# Sequence of periods\n",
    "pd.period_range('2019-06-01', periods=8)"
   ]
  },
  {
   "cell_type": "code",
   "execution_count": 62,
   "metadata": {},
   "outputs": [
    {
     "data": {
      "text/plain": [
       "TimedeltaIndex([ '0 days',  '1 days',  '2 days',  '3 days',  '4 days',\n",
       "                 '5 days',  '6 days',  '7 days',  '8 days',  '9 days',\n",
       "                '10 days'],\n",
       "               dtype='timedelta64[ns]', freq='D')"
      ]
     },
     "execution_count": 62,
     "metadata": {},
     "output_type": "execute_result"
    }
   ],
   "source": [
    "# Sequence of durations increasing by day \n",
    "pd.timedelta_range(0, periods=11, freq='D')"
   ]
  },
  {
   "cell_type": "markdown",
   "metadata": {},
   "source": [
    "#### Listing of pandas frequency codes "
   ]
  },
  {
   "cell_type": "markdown",
   "metadata": {},
   "source": [
    "| Code | Description | Code | Description |\n",
    "| - | - | - | - |\n",
    "| D | Calendar day | W | Weekly |\n",
    "| M | Month end | MS | Month start |\n",
    "| Q | Quarter end | QS | Quarter start |\n",
    "| A | Year end | AS | Year start | \n",
    "| H | Hours | T | Minutes |\n",
    "| S | Seconds | L | Milliseconds |\n",
    "| U | Microseconds | N | Nanoseconds |\n",
    "|B| Business day |\n",
    "| BM | Business month end | BMS | Business month start |\n",
    "| BQ | Business quarter end | BQA | Business quarter start |\n",
    "| BA | Business year end | BAS | Business year start | "
   ]
  },
  {
   "cell_type": "code",
   "execution_count": 64,
   "metadata": {},
   "outputs": [
    {
     "data": {
      "text/plain": [
       "TimedeltaIndex(['00:00:00', '02:30:00', '05:00:00', '07:30:00', '10:00:00',\n",
       "                '12:30:00', '15:00:00', '17:30:00', '20:00:00', '22:30:00'],\n",
       "               dtype='timedelta64[ns]', freq='150T')"
      ]
     },
     "execution_count": 64,
     "metadata": {},
     "output_type": "execute_result"
    }
   ],
   "source": [
    "# Other frequencies \n",
    "# Codes can be combined with numbers to specify other frequencies\n",
    "pd.timedelta_range(0, periods=10, freq = '2H30T') # 10 periods that are 2.5 hours apart "
   ]
  },
  {
   "cell_type": "markdown",
   "metadata": {},
   "source": [
    "Creating a time series offset directly from `pd.tseries.offsets`"
   ]
  },
  {
   "cell_type": "code",
   "execution_count": 66,
   "metadata": {},
   "outputs": [],
   "source": [
    "from pandas.tseries.offsets import BDay"
   ]
  },
  {
   "cell_type": "code",
   "execution_count": 67,
   "metadata": {},
   "outputs": [
    {
     "data": {
      "text/plain": [
       "DatetimeIndex(['2019-06-24', '2019-06-25', '2019-06-26', '2019-06-27',\n",
       "               '2019-06-28', '2019-07-01', '2019-07-02', '2019-07-03',\n",
       "               '2019-07-04', '2019-07-05'],\n",
       "              dtype='datetime64[ns]', freq='B')"
      ]
     },
     "execution_count": 67,
     "metadata": {},
     "output_type": "execute_result"
    }
   ],
   "source": [
    "pd.date_range('2019-06-24', periods=10, freq=BDay())"
   ]
  },
  {
   "cell_type": "code",
   "execution_count": 14,
   "metadata": {},
   "outputs": [],
   "source": [
    "import requests \n",
    "import io\n",
    "import zipfile\n",
    "#from urllib.request import urlopen"
   ]
  },
  {
   "cell_type": "code",
   "execution_count": 26,
   "metadata": {},
   "outputs": [],
   "source": [
    "df = pd.read_csv('C:\\\\Users\\\\sridevi.tolety\\\\Documents\\\\StudyReferences\\\\Academic ebooks\\\\2.Python\\\\WDIData.csv')"
   ]
  },
  {
   "cell_type": "code",
   "execution_count": 27,
   "metadata": {},
   "outputs": [
    {
     "data": {
      "text/html": [
       "<div>\n",
       "<style scoped>\n",
       "    .dataframe tbody tr th:only-of-type {\n",
       "        vertical-align: middle;\n",
       "    }\n",
       "\n",
       "    .dataframe tbody tr th {\n",
       "        vertical-align: top;\n",
       "    }\n",
       "\n",
       "    .dataframe thead th {\n",
       "        text-align: right;\n",
       "    }\n",
       "</style>\n",
       "<table border=\"1\" class=\"dataframe\">\n",
       "  <thead>\n",
       "    <tr style=\"text-align: right;\">\n",
       "      <th></th>\n",
       "      <th>Country Name</th>\n",
       "      <th>Country Code</th>\n",
       "      <th>Indicator Name</th>\n",
       "      <th>Indicator Code</th>\n",
       "      <th>1960</th>\n",
       "      <th>1961</th>\n",
       "      <th>1962</th>\n",
       "      <th>1963</th>\n",
       "      <th>1964</th>\n",
       "      <th>1965</th>\n",
       "      <th>...</th>\n",
       "      <th>2010</th>\n",
       "      <th>2011</th>\n",
       "      <th>2012</th>\n",
       "      <th>2013</th>\n",
       "      <th>2014</th>\n",
       "      <th>2015</th>\n",
       "      <th>2016</th>\n",
       "      <th>2017</th>\n",
       "      <th>2018</th>\n",
       "      <th>Unnamed: 63</th>\n",
       "    </tr>\n",
       "  </thead>\n",
       "  <tbody>\n",
       "    <tr>\n",
       "      <th>0</th>\n",
       "      <td>Arab World</td>\n",
       "      <td>ARB</td>\n",
       "      <td>2005 PPP conversion factor, GDP (LCU per inter...</td>\n",
       "      <td>PA.NUS.PPP.05</td>\n",
       "      <td>NaN</td>\n",
       "      <td>NaN</td>\n",
       "      <td>NaN</td>\n",
       "      <td>NaN</td>\n",
       "      <td>NaN</td>\n",
       "      <td>NaN</td>\n",
       "      <td>...</td>\n",
       "      <td>NaN</td>\n",
       "      <td>NaN</td>\n",
       "      <td>NaN</td>\n",
       "      <td>NaN</td>\n",
       "      <td>NaN</td>\n",
       "      <td>NaN</td>\n",
       "      <td>NaN</td>\n",
       "      <td>NaN</td>\n",
       "      <td>NaN</td>\n",
       "      <td>NaN</td>\n",
       "    </tr>\n",
       "    <tr>\n",
       "      <th>1</th>\n",
       "      <td>Arab World</td>\n",
       "      <td>ARB</td>\n",
       "      <td>2005 PPP conversion factor, private consumptio...</td>\n",
       "      <td>PA.NUS.PRVT.PP.05</td>\n",
       "      <td>NaN</td>\n",
       "      <td>NaN</td>\n",
       "      <td>NaN</td>\n",
       "      <td>NaN</td>\n",
       "      <td>NaN</td>\n",
       "      <td>NaN</td>\n",
       "      <td>...</td>\n",
       "      <td>NaN</td>\n",
       "      <td>NaN</td>\n",
       "      <td>NaN</td>\n",
       "      <td>NaN</td>\n",
       "      <td>NaN</td>\n",
       "      <td>NaN</td>\n",
       "      <td>NaN</td>\n",
       "      <td>NaN</td>\n",
       "      <td>NaN</td>\n",
       "      <td>NaN</td>\n",
       "    </tr>\n",
       "    <tr>\n",
       "      <th>2</th>\n",
       "      <td>Arab World</td>\n",
       "      <td>ARB</td>\n",
       "      <td>Access to clean fuels and technologies for coo...</td>\n",
       "      <td>EG.CFT.ACCS.ZS</td>\n",
       "      <td>NaN</td>\n",
       "      <td>NaN</td>\n",
       "      <td>NaN</td>\n",
       "      <td>NaN</td>\n",
       "      <td>NaN</td>\n",
       "      <td>NaN</td>\n",
       "      <td>...</td>\n",
       "      <td>82.407647</td>\n",
       "      <td>82.827636</td>\n",
       "      <td>83.169227</td>\n",
       "      <td>83.587141</td>\n",
       "      <td>83.954293</td>\n",
       "      <td>84.230630</td>\n",
       "      <td>84.570425</td>\n",
       "      <td>NaN</td>\n",
       "      <td>NaN</td>\n",
       "      <td>NaN</td>\n",
       "    </tr>\n",
       "    <tr>\n",
       "      <th>3</th>\n",
       "      <td>Arab World</td>\n",
       "      <td>ARB</td>\n",
       "      <td>Access to electricity (% of population)</td>\n",
       "      <td>EG.ELC.ACCS.ZS</td>\n",
       "      <td>NaN</td>\n",
       "      <td>NaN</td>\n",
       "      <td>NaN</td>\n",
       "      <td>NaN</td>\n",
       "      <td>NaN</td>\n",
       "      <td>NaN</td>\n",
       "      <td>...</td>\n",
       "      <td>86.136134</td>\n",
       "      <td>86.782683</td>\n",
       "      <td>87.288244</td>\n",
       "      <td>88.389705</td>\n",
       "      <td>88.076774</td>\n",
       "      <td>88.517967</td>\n",
       "      <td>88.768654</td>\n",
       "      <td>NaN</td>\n",
       "      <td>NaN</td>\n",
       "      <td>NaN</td>\n",
       "    </tr>\n",
       "    <tr>\n",
       "      <th>4</th>\n",
       "      <td>Arab World</td>\n",
       "      <td>ARB</td>\n",
       "      <td>Access to electricity, rural (% of rural popul...</td>\n",
       "      <td>EG.ELC.ACCS.RU.ZS</td>\n",
       "      <td>NaN</td>\n",
       "      <td>NaN</td>\n",
       "      <td>NaN</td>\n",
       "      <td>NaN</td>\n",
       "      <td>NaN</td>\n",
       "      <td>NaN</td>\n",
       "      <td>...</td>\n",
       "      <td>74.543489</td>\n",
       "      <td>75.770972</td>\n",
       "      <td>76.772916</td>\n",
       "      <td>78.839139</td>\n",
       "      <td>77.487377</td>\n",
       "      <td>78.564439</td>\n",
       "      <td>78.958780</td>\n",
       "      <td>NaN</td>\n",
       "      <td>NaN</td>\n",
       "      <td>NaN</td>\n",
       "    </tr>\n",
       "  </tbody>\n",
       "</table>\n",
       "<p>5 rows × 64 columns</p>\n",
       "</div>"
      ],
      "text/plain": [
       "  Country Name Country Code  \\\n",
       "0   Arab World          ARB   \n",
       "1   Arab World          ARB   \n",
       "2   Arab World          ARB   \n",
       "3   Arab World          ARB   \n",
       "4   Arab World          ARB   \n",
       "\n",
       "                                      Indicator Name     Indicator Code  1960  \\\n",
       "0  2005 PPP conversion factor, GDP (LCU per inter...      PA.NUS.PPP.05   NaN   \n",
       "1  2005 PPP conversion factor, private consumptio...  PA.NUS.PRVT.PP.05   NaN   \n",
       "2  Access to clean fuels and technologies for coo...     EG.CFT.ACCS.ZS   NaN   \n",
       "3            Access to electricity (% of population)     EG.ELC.ACCS.ZS   NaN   \n",
       "4  Access to electricity, rural (% of rural popul...  EG.ELC.ACCS.RU.ZS   NaN   \n",
       "\n",
       "   1961  1962  1963  1964  1965     ...            2010       2011       2012  \\\n",
       "0   NaN   NaN   NaN   NaN   NaN     ...             NaN        NaN        NaN   \n",
       "1   NaN   NaN   NaN   NaN   NaN     ...             NaN        NaN        NaN   \n",
       "2   NaN   NaN   NaN   NaN   NaN     ...       82.407647  82.827636  83.169227   \n",
       "3   NaN   NaN   NaN   NaN   NaN     ...       86.136134  86.782683  87.288244   \n",
       "4   NaN   NaN   NaN   NaN   NaN     ...       74.543489  75.770972  76.772916   \n",
       "\n",
       "        2013       2014       2015       2016  2017  2018  Unnamed: 63  \n",
       "0        NaN        NaN        NaN        NaN   NaN   NaN          NaN  \n",
       "1        NaN        NaN        NaN        NaN   NaN   NaN          NaN  \n",
       "2  83.587141  83.954293  84.230630  84.570425   NaN   NaN          NaN  \n",
       "3  88.389705  88.076774  88.517967  88.768654   NaN   NaN          NaN  \n",
       "4  78.839139  77.487377  78.564439  78.958780   NaN   NaN          NaN  \n",
       "\n",
       "[5 rows x 64 columns]"
      ]
     },
     "execution_count": 27,
     "metadata": {},
     "output_type": "execute_result"
    }
   ],
   "source": [
    "df.head()"
   ]
  },
  {
   "cell_type": "code",
   "execution_count": 218,
   "metadata": {},
   "outputs": [
    {
     "data": {
      "text/html": [
       "<div>\n",
       "<style scoped>\n",
       "    .dataframe tbody tr th:only-of-type {\n",
       "        vertical-align: middle;\n",
       "    }\n",
       "\n",
       "    .dataframe tbody tr th {\n",
       "        vertical-align: top;\n",
       "    }\n",
       "\n",
       "    .dataframe thead th {\n",
       "        text-align: right;\n",
       "    }\n",
       "</style>\n",
       "<table border=\"1\" class=\"dataframe\">\n",
       "  <thead>\n",
       "    <tr style=\"text-align: right;\">\n",
       "      <th></th>\n",
       "      <th>217615</th>\n",
       "    </tr>\n",
       "  </thead>\n",
       "  <tbody>\n",
       "    <tr>\n",
       "      <th>1960</th>\n",
       "      <td>NaN</td>\n",
       "    </tr>\n",
       "    <tr>\n",
       "      <th>1961</th>\n",
       "      <td>NaN</td>\n",
       "    </tr>\n",
       "    <tr>\n",
       "      <th>1962</th>\n",
       "      <td>NaN</td>\n",
       "    </tr>\n",
       "    <tr>\n",
       "      <th>1963</th>\n",
       "      <td>NaN</td>\n",
       "    </tr>\n",
       "    <tr>\n",
       "      <th>1964</th>\n",
       "      <td>NaN</td>\n",
       "    </tr>\n",
       "  </tbody>\n",
       "</table>\n",
       "</div>"
      ],
      "text/plain": [
       "     217615\n",
       "1960    NaN\n",
       "1961    NaN\n",
       "1962    NaN\n",
       "1963    NaN\n",
       "1964    NaN"
      ]
     },
     "execution_count": 218,
     "metadata": {},
     "output_type": "execute_result"
    }
   ],
   "source": [
    "ts = df.loc[(df['Indicator Name']=='Central government debt, total (% of GDP)') & (df['Country Name']=='India')].T[4:]\n",
    "ts.head()"
   ]
  },
  {
   "cell_type": "code",
   "execution_count": 219,
   "metadata": {},
   "outputs": [],
   "source": [
    "ts.drop(['Unnamed: 63'], inplace=True)"
   ]
  },
  {
   "cell_type": "code",
   "execution_count": 220,
   "metadata": {},
   "outputs": [],
   "source": [
    "ts.columns = ['ts']"
   ]
  },
  {
   "cell_type": "code",
   "execution_count": 221,
   "metadata": {},
   "outputs": [
    {
     "data": {
      "text/html": [
       "<div>\n",
       "<style scoped>\n",
       "    .dataframe tbody tr th:only-of-type {\n",
       "        vertical-align: middle;\n",
       "    }\n",
       "\n",
       "    .dataframe tbody tr th {\n",
       "        vertical-align: top;\n",
       "    }\n",
       "\n",
       "    .dataframe thead th {\n",
       "        text-align: right;\n",
       "    }\n",
       "</style>\n",
       "<table border=\"1\" class=\"dataframe\">\n",
       "  <thead>\n",
       "    <tr style=\"text-align: right;\">\n",
       "      <th></th>\n",
       "      <th>ts</th>\n",
       "    </tr>\n",
       "  </thead>\n",
       "  <tbody>\n",
       "    <tr>\n",
       "      <th>1960-01-01</th>\n",
       "      <td>NaN</td>\n",
       "    </tr>\n",
       "    <tr>\n",
       "      <th>1961-01-01</th>\n",
       "      <td>NaN</td>\n",
       "    </tr>\n",
       "    <tr>\n",
       "      <th>1962-01-01</th>\n",
       "      <td>NaN</td>\n",
       "    </tr>\n",
       "    <tr>\n",
       "      <th>1963-01-01</th>\n",
       "      <td>NaN</td>\n",
       "    </tr>\n",
       "  </tbody>\n",
       "</table>\n",
       "</div>"
      ],
      "text/plain": [
       "             ts\n",
       "1960-01-01  NaN\n",
       "1961-01-01  NaN\n",
       "1962-01-01  NaN\n",
       "1963-01-01  NaN"
      ]
     },
     "execution_count": 221,
     "metadata": {},
     "output_type": "execute_result"
    }
   ],
   "source": [
    "ts.index = pd.to_datetime(ts.index)\n",
    "ts.head(4)"
   ]
  },
  {
   "cell_type": "code",
   "execution_count": 222,
   "metadata": {},
   "outputs": [],
   "source": [
    "ts.dropna(axis=0, inplace=True)"
   ]
  },
  {
   "cell_type": "code",
   "execution_count": 223,
   "metadata": {},
   "outputs": [],
   "source": [
    "import matplotlib.pyplot as plt\n",
    "import seaborn as sb\n",
    "# sb.set()\n",
    "%matplotlib inline"
   ]
  },
  {
   "cell_type": "markdown",
   "metadata": {},
   "source": [
    "# Manipulating time series data"
   ]
  },
  {
   "cell_type": "markdown",
   "metadata": {},
   "source": [
    "### Resampling & converting frequency\n",
    "* `resample()` method: Data aggregation _(e.g. avg of previous year)_\n",
    "* `asfreq()` method: Data selection _(e.g. end of the year value)_"
   ]
  },
  {
   "cell_type": "code",
   "execution_count": 225,
   "metadata": {},
   "outputs": [],
   "source": [
    "ts['ts'] = ts['ts'].astype('float')"
   ]
  },
  {
   "cell_type": "markdown",
   "metadata": {},
   "source": [
    "#### Downsampling"
   ]
  },
  {
   "cell_type": "code",
   "execution_count": 226,
   "metadata": {},
   "outputs": [
    {
     "data": {
      "image/png": "[encoded data removed]",
      "text/plain": [
       "<Figure size 432x288 with 1 Axes>"
      ]
     },
     "metadata": {
      "needs_background": "light"
     },
     "output_type": "display_data"
    }
   ],
   "source": [
    "# Resample to every 5 years \n",
    "plt.plot(ts['ts'], alpha=0.5) # Midway transparent, original series\n",
    "plt.plot(ts['ts'].resample('5AS').mean(), linestyle=':')\n",
    "plt.plot(ts['ts'].asfreq(freq='5AS'), linestyle='--')\n",
    "plt.legend(['Original', 'Resample', 'Asfreq'], loc='upper left');\n",
    "plt.show()"
   ]
  },
  {
   "cell_type": "markdown",
   "metadata": {},
   "source": [
    "#### Upsampling"
   ]
  },
  {
   "cell_type": "code",
   "execution_count": 227,
   "metadata": {},
   "outputs": [
    {
     "data": {
      "image/png": "[encoded data removed]",
      "text/plain": [
       "<Figure size 432x288 with 1 Axes>"
      ]
     },
     "metadata": {
      "needs_background": "light"
     },
     "output_type": "display_data"
    }
   ],
   "source": [
    "# Resample to half-yearly\n",
    "plt.plot(ts.asfreq('MS', method='bfill'), linestyle=\"--\")\n",
    "plt.plot(ts.asfreq('MS', method='ffill'), linestyle=\"--\")\n",
    "plt.legend(['Upsampled to monthly with bfill', 'Upsampled to monthly with ffill']);"
   ]
  },
  {
   "cell_type": "markdown",
   "metadata": {},
   "source": [
    "### Time shifts "
   ]
  },
  {
   "cell_type": "markdown",
   "metadata": {},
   "source": [
    "* `shift()` shifts the data\n",
    "* `tshift()` shifts the index "
   ]
  },
  {
   "cell_type": "code",
   "execution_count": 228,
   "metadata": {},
   "outputs": [
    {
     "data": {
      "text/html": [
       "<div>\n",
       "<style scoped>\n",
       "    .dataframe tbody tr th:only-of-type {\n",
       "        vertical-align: middle;\n",
       "    }\n",
       "\n",
       "    .dataframe tbody tr th {\n",
       "        vertical-align: top;\n",
       "    }\n",
       "\n",
       "    .dataframe thead th {\n",
       "        text-align: right;\n",
       "    }\n",
       "</style>\n",
       "<table border=\"1\" class=\"dataframe\">\n",
       "  <thead>\n",
       "    <tr style=\"text-align: right;\">\n",
       "      <th></th>\n",
       "      <th>ts</th>\n",
       "    </tr>\n",
       "  </thead>\n",
       "  <tbody>\n",
       "    <tr>\n",
       "      <th>1990-01-01</th>\n",
       "      <td>50.783253</td>\n",
       "    </tr>\n",
       "    <tr>\n",
       "      <th>1990-02-01</th>\n",
       "      <td>50.783253</td>\n",
       "    </tr>\n",
       "    <tr>\n",
       "      <th>1990-03-01</th>\n",
       "      <td>50.783253</td>\n",
       "    </tr>\n",
       "    <tr>\n",
       "      <th>1990-04-01</th>\n",
       "      <td>50.783253</td>\n",
       "    </tr>\n",
       "    <tr>\n",
       "      <th>1990-05-01</th>\n",
       "      <td>50.783253</td>\n",
       "    </tr>\n",
       "  </tbody>\n",
       "</table>\n",
       "</div>"
      ],
      "text/plain": [
       "                   ts\n",
       "1990-01-01  50.783253\n",
       "1990-02-01  50.783253\n",
       "1990-03-01  50.783253\n",
       "1990-04-01  50.783253\n",
       "1990-05-01  50.783253"
      ]
     },
     "execution_count": 228,
     "metadata": {},
     "output_type": "execute_result"
    }
   ],
   "source": [
    "to_monthly = ts.asfreq('MS', method='pad')\n",
    "to_monthly.head()"
   ]
  },
  {
   "cell_type": "code",
   "execution_count": 229,
   "metadata": {},
   "outputs": [
    {
     "data": {
      "text/html": [
       "<div>\n",
       "<style scoped>\n",
       "    .dataframe tbody tr th:only-of-type {\n",
       "        vertical-align: middle;\n",
       "    }\n",
       "\n",
       "    .dataframe tbody tr th {\n",
       "        vertical-align: top;\n",
       "    }\n",
       "\n",
       "    .dataframe thead th {\n",
       "        text-align: right;\n",
       "    }\n",
       "</style>\n",
       "<table border=\"1\" class=\"dataframe\">\n",
       "  <thead>\n",
       "    <tr style=\"text-align: right;\">\n",
       "      <th></th>\n",
       "      <th>ts</th>\n",
       "    </tr>\n",
       "  </thead>\n",
       "  <tbody>\n",
       "    <tr>\n",
       "      <th>1990-01-01</th>\n",
       "      <td>NaN</td>\n",
       "    </tr>\n",
       "    <tr>\n",
       "      <th>1990-02-01</th>\n",
       "      <td>50.783253</td>\n",
       "    </tr>\n",
       "    <tr>\n",
       "      <th>1990-03-01</th>\n",
       "      <td>50.783253</td>\n",
       "    </tr>\n",
       "    <tr>\n",
       "      <th>1990-04-01</th>\n",
       "      <td>50.783253</td>\n",
       "    </tr>\n",
       "    <tr>\n",
       "      <th>1990-05-01</th>\n",
       "      <td>50.783253</td>\n",
       "    </tr>\n",
       "  </tbody>\n",
       "</table>\n",
       "</div>"
      ],
      "text/plain": [
       "                   ts\n",
       "1990-01-01        NaN\n",
       "1990-02-01  50.783253\n",
       "1990-03-01  50.783253\n",
       "1990-04-01  50.783253\n",
       "1990-05-01  50.783253"
      ]
     },
     "execution_count": 229,
     "metadata": {},
     "output_type": "execute_result"
    }
   ],
   "source": [
    "to_monthly.shift(1).head()"
   ]
  },
  {
   "cell_type": "code",
   "execution_count": 172,
   "metadata": {},
   "outputs": [
    {
     "data": {
      "image/png": "[encoded data removed]",
      "text/plain": [
       "<Figure size 720x576 with 3 Axes>"
      ]
     },
     "metadata": {
      "needs_background": "light"
     },
     "output_type": "display_data"
    }
   ],
   "source": [
    "from matplotlib import rcParams\n",
    "rcParams['figure.figsize'] = 10,8\n",
    "fig, ax = plt.subplots(3, 1, sharey=True)\n",
    "ax[0].plot(to_monthly)\n",
    "ax[0].legend(['Original'])\n",
    "ax[0].get_xticklabels()[4].set(weight='heavy', color='red')\n",
    "ax[0].axvline(local_max + offset, color='red')\n",
    "\n",
    "ax[1].plot(to_monthly.shift(12), linestyle='-')#Shifting the dataset\n",
    "ax[1].legend(['Past year'], loc='upper right')#, fontsize=0.2)\n",
    "ax[1].get_xticklabels()[4].set(weight='heavy', color='red')\n",
    "ax[1].axvline(local_max + offset, color='red')\n",
    "\n",
    "ax[2].plot(to_monthly.tshift(12), linestyle='--')#Shifting the index\n",
    "ax[2].legend(['Index shift'], loc='upper right')#, fontsize=0.1)\n",
    "# ax[2].get_xticklabels()[1].set(weight='heavy', color='red')\n",
    "ax[2].axvline(local_max + offset, color='red')\n",
    "\n",
    "# Legends and annotations\n",
    "local_max = pd.to_datetime('2004-01-01')\n",
    "offset = pd.Timedelta(12);"
   ]
  },
  {
   "cell_type": "markdown",
   "metadata": {},
   "source": [
    "### Moving statistics"
   ]
  },
  {
   "cell_type": "markdown",
   "metadata": {},
   "source": [
    "Moving/rolling statistics are computed by sliding a window of certain size over the original time series and aggregating the data for every window. Also known as convolving over the time index. \n",
    "\n",
    "2 parameters of the convolving operation are:\n",
    "1. Window size: Number of time units taken as input to the aggregate function\n",
    "* Stride length. Sets the gap along the time index between every computation. "
   ]
  },
  {
   "cell_type": "code",
   "execution_count": 230,
   "metadata": {},
   "outputs": [
    {
     "data": {
      "text/plain": [
       "DatetimeIndex(['1990-01-01', '1991-01-01', '1992-01-01', '1993-01-01',\n",
       "               '1994-01-01', '1995-01-01', '1996-01-01', '1997-01-01',\n",
       "               '1998-01-01', '1999-01-01', '2000-01-01', '2001-01-01',\n",
       "               '2002-01-01', '2003-01-01', '2004-01-01', '2005-01-01',\n",
       "               '2006-01-01', '2007-01-01', '2008-01-01', '2009-01-01',\n",
       "               '2010-01-01', '2011-01-01', '2012-01-01', '2013-01-01'],\n",
       "              dtype='datetime64[ns]', freq=None)"
      ]
     },
     "execution_count": 230,
     "metadata": {},
     "output_type": "execute_result"
    }
   ],
   "source": [
    "ts.index"
   ]
  },
  {
   "cell_type": "code",
   "execution_count": 231,
   "metadata": {},
   "outputs": [],
   "source": [
    "p3y_avg = ts.rolling(window=3, center=False).mean()\n",
    "p3y_sd = ts.rolling(window=3, center=False).std()"
   ]
  },
  {
   "cell_type": "code",
   "execution_count": 232,
   "metadata": {},
   "outputs": [
    {
     "data": {
      "text/html": [
       "<div>\n",
       "<style scoped>\n",
       "    .dataframe tbody tr th:only-of-type {\n",
       "        vertical-align: middle;\n",
       "    }\n",
       "\n",
       "    .dataframe tbody tr th {\n",
       "        vertical-align: top;\n",
       "    }\n",
       "\n",
       "    .dataframe thead th {\n",
       "        text-align: right;\n",
       "    }\n",
       "</style>\n",
       "<table border=\"1\" class=\"dataframe\">\n",
       "  <thead>\n",
       "    <tr style=\"text-align: right;\">\n",
       "      <th></th>\n",
       "      <th>Orig</th>\n",
       "      <th>p3y_avg</th>\n",
       "      <th>p3y_sd</th>\n",
       "    </tr>\n",
       "  </thead>\n",
       "  <tbody>\n",
       "    <tr>\n",
       "      <th>1990-01-01</th>\n",
       "      <td>50.783253</td>\n",
       "      <td>NaN</td>\n",
       "      <td>NaN</td>\n",
       "    </tr>\n",
       "    <tr>\n",
       "      <th>1991-01-01</th>\n",
       "      <td>50.010079</td>\n",
       "      <td>NaN</td>\n",
       "      <td>NaN</td>\n",
       "    </tr>\n",
       "    <tr>\n",
       "      <th>1992-01-01</th>\n",
       "      <td>49.680900</td>\n",
       "      <td>50.158077</td>\n",
       "      <td>0.565882</td>\n",
       "    </tr>\n",
       "    <tr>\n",
       "      <th>1993-01-01</th>\n",
       "      <td>51.759807</td>\n",
       "      <td>50.483595</td>\n",
       "      <td>1.117420</td>\n",
       "    </tr>\n",
       "    <tr>\n",
       "      <th>1994-01-01</th>\n",
       "      <td>49.594282</td>\n",
       "      <td>50.344996</td>\n",
       "      <td>1.226027</td>\n",
       "    </tr>\n",
       "  </tbody>\n",
       "</table>\n",
       "</div>"
      ],
      "text/plain": [
       "                 Orig    p3y_avg    p3y_sd\n",
       "1990-01-01  50.783253        NaN       NaN\n",
       "1991-01-01  50.010079        NaN       NaN\n",
       "1992-01-01  49.680900  50.158077  0.565882\n",
       "1993-01-01  51.759807  50.483595  1.117420\n",
       "1994-01-01  49.594282  50.344996  1.226027"
      ]
     },
     "execution_count": 232,
     "metadata": {},
     "output_type": "execute_result"
    }
   ],
   "source": [
    "data = pd.concat([ts, p3y_avg, p3y_sd], axis=1)\n",
    "data.columns = ['Orig', 'p3y_avg', 'p3y_sd']\n",
    "data.head()"
   ]
  },
  {
   "cell_type": "code",
   "execution_count": 182,
   "metadata": {},
   "outputs": [
    {
     "data": {
      "text/plain": [
       "50.15807733333333"
      ]
     },
     "execution_count": 182,
     "metadata": {},
     "output_type": "execute_result"
    }
   ],
   "source": [
    "(50.783253+50.010079+49.680900)/3 # Verifying "
   ]
  },
  {
   "cell_type": "code",
   "execution_count": 213,
   "metadata": {},
   "outputs": [
    {
     "data": {
      "image/png": "[encoded data removed]",
      "text/plain": [
       "<Figure size 720x576 with 1 Axes>"
      ]
     },
     "metadata": {
      "needs_background": "light"
     },
     "output_type": "display_data"
    }
   ],
   "source": [
    "data.plot();"
   ]
  },
  {
   "cell_type": "markdown",
   "metadata": {},
   "source": [
    "The rolling function takes only the window size as argument. Therefore, to add a stride length of more than one we still calculate the moving average as shown previously, but then slice the resulting series to get the desired output. For strides over two time units we use the following code:\n",
    "`weekly_moving_average_2stride = df['Mean temparature'].rolling(7).mean()[::2]\n",
    "monthly_moving_average_2stride = df['Mean temparature'].rolling(30).mean()[::2]`"
   ]
  },
  {
   "cell_type": "markdown",
   "metadata": {},
   "source": [
    "### Group wise aggregations"
   ]
  },
  {
   "cell_type": "code",
   "execution_count": 138,
   "metadata": {},
   "outputs": [],
   "source": [
    "from datetime import datetime\n",
    "import numpy as np\n",
    "import pandas as pd\n",
    "import matplotlib.pyplot as plt\n",
    "import seaborn as sb"
   ]
  },
  {
   "cell_type": "code",
   "execution_count": 139,
   "metadata": {},
   "outputs": [
    {
     "data": {
      "text/html": [
       "<div>\n",
       "<style scoped>\n",
       "    .dataframe tbody tr th:only-of-type {\n",
       "        vertical-align: middle;\n",
       "    }\n",
       "\n",
       "    .dataframe tbody tr th {\n",
       "        vertical-align: top;\n",
       "    }\n",
       "\n",
       "    .dataframe thead th {\n",
       "        text-align: right;\n",
       "    }\n",
       "</style>\n",
       "<table border=\"1\" class=\"dataframe\">\n",
       "  <thead>\n",
       "    <tr style=\"text-align: right;\">\n",
       "      <th></th>\n",
       "      <th>Date</th>\n",
       "      <th>Mean temparature</th>\n",
       "    </tr>\n",
       "  </thead>\n",
       "  <tbody>\n",
       "    <tr>\n",
       "      <th>0</th>\n",
       "      <td>1988-01-01</td>\n",
       "      <td>-23.0</td>\n",
       "    </tr>\n",
       "    <tr>\n",
       "      <th>1</th>\n",
       "      <td>1988-01-02</td>\n",
       "      <td>-20.5</td>\n",
       "    </tr>\n",
       "    <tr>\n",
       "      <th>2</th>\n",
       "      <td>1988-01-03</td>\n",
       "      <td>-22.0</td>\n",
       "    </tr>\n",
       "    <tr>\n",
       "      <th>3</th>\n",
       "      <td>1988-01-04</td>\n",
       "      <td>-30.5</td>\n",
       "    </tr>\n",
       "    <tr>\n",
       "      <th>4</th>\n",
       "      <td>1988-01-05</td>\n",
       "      <td>-31.0</td>\n",
       "    </tr>\n",
       "  </tbody>\n",
       "</table>\n",
       "</div>"
      ],
      "text/plain": [
       "         Date  Mean temparature\n",
       "0  1988-01-01             -23.0\n",
       "1  1988-01-02             -20.5\n",
       "2  1988-01-03             -22.0\n",
       "3  1988-01-04             -30.5\n",
       "4  1988-01-05             -31.0"
      ]
     },
     "execution_count": 139,
     "metadata": {},
     "output_type": "execute_result"
    }
   ],
   "source": [
    "# Data: Mean daily temparatures of Fisher river, Texas (between 1st Jan'88 to 31 Dec'91)\n",
    "df = pd.read_csv('https://raw.githubusercontent.com/sri-spirited/Practical-Time-Series-Analysis-Python/master/Data%20Files/mean-daily-temperature-fisher-river.csv')\n",
    "df.head()"
   ]
  },
  {
   "cell_type": "code",
   "execution_count": 140,
   "metadata": {},
   "outputs": [
    {
     "data": {
      "text/html": [
       "<div>\n",
       "<style scoped>\n",
       "    .dataframe tbody tr th:only-of-type {\n",
       "        vertical-align: middle;\n",
       "    }\n",
       "\n",
       "    .dataframe tbody tr th {\n",
       "        vertical-align: top;\n",
       "    }\n",
       "\n",
       "    .dataframe thead th {\n",
       "        text-align: right;\n",
       "    }\n",
       "</style>\n",
       "<table border=\"1\" class=\"dataframe\">\n",
       "  <thead>\n",
       "    <tr style=\"text-align: right;\">\n",
       "      <th></th>\n",
       "      <th>Date</th>\n",
       "      <th>Mean temparature</th>\n",
       "    </tr>\n",
       "    <tr>\n",
       "      <th>Date</th>\n",
       "      <th></th>\n",
       "      <th></th>\n",
       "    </tr>\n",
       "  </thead>\n",
       "  <tbody>\n",
       "    <tr>\n",
       "      <th>1988-01-01</th>\n",
       "      <td>1988-01-01</td>\n",
       "      <td>-23.0</td>\n",
       "    </tr>\n",
       "    <tr>\n",
       "      <th>1988-01-02</th>\n",
       "      <td>1988-01-02</td>\n",
       "      <td>-20.5</td>\n",
       "    </tr>\n",
       "    <tr>\n",
       "      <th>1988-01-03</th>\n",
       "      <td>1988-01-03</td>\n",
       "      <td>-22.0</td>\n",
       "    </tr>\n",
       "    <tr>\n",
       "      <th>1988-01-04</th>\n",
       "      <td>1988-01-04</td>\n",
       "      <td>-30.5</td>\n",
       "    </tr>\n",
       "    <tr>\n",
       "      <th>1988-01-05</th>\n",
       "      <td>1988-01-05</td>\n",
       "      <td>-31.0</td>\n",
       "    </tr>\n",
       "  </tbody>\n",
       "</table>\n",
       "</div>"
      ],
      "text/plain": [
       "                  Date  Mean temparature\n",
       "Date                                    \n",
       "1988-01-01  1988-01-01             -23.0\n",
       "1988-01-02  1988-01-02             -20.5\n",
       "1988-01-03  1988-01-03             -22.0\n",
       "1988-01-04  1988-01-04             -30.5\n",
       "1988-01-05  1988-01-05             -31.0"
      ]
     },
     "execution_count": 140,
     "metadata": {},
     "output_type": "execute_result"
    }
   ],
   "source": [
    "df.index = df['Date'].map(lambda d: pd.to_datetime(d, format='%Y-%m-%d'))\n",
    "df.head()"
   ]
  },
  {
   "cell_type": "code",
   "execution_count": 141,
   "metadata": {},
   "outputs": [
    {
     "data": {
      "text/plain": [
       "(1461, 2)"
      ]
     },
     "execution_count": 141,
     "metadata": {},
     "output_type": "execute_result"
    }
   ],
   "source": [
    "df.shape #1461 days of data"
   ]
  },
  {
   "cell_type": "code",
   "execution_count": 39,
   "metadata": {},
   "outputs": [
    {
     "data": {
      "image/png": "[encoded data removed]",
      "text/plain": [
       "<Figure size 396x396 with 1 Axes>"
      ]
     },
     "metadata": {
      "needs_background": "light"
     },
     "output_type": "display_data"
    }
   ],
   "source": [
    "fig = plt.figure(figsize=(5.5, 5.5))\n",
    "df['Mean temparature'].plot(color='b')\n",
    "plt.title('Mean daily temparature');"
   ]
  },
  {
   "cell_type": "code",
   "execution_count": 32,
   "metadata": {},
   "outputs": [
    {
     "data": {
      "text/plain": [
       "dtype('<M8[ns]')"
      ]
     },
     "execution_count": 32,
     "metadata": {},
     "output_type": "execute_result"
    }
   ],
   "source": [
    "df.index.dtype"
   ]
  },
  {
   "cell_type": "code",
   "execution_count": 142,
   "metadata": {},
   "outputs": [
    {
     "data": {
      "text/html": [
       "<div>\n",
       "<style scoped>\n",
       "    .dataframe tbody tr th:only-of-type {\n",
       "        vertical-align: middle;\n",
       "    }\n",
       "\n",
       "    .dataframe tbody tr th {\n",
       "        vertical-align: top;\n",
       "    }\n",
       "\n",
       "    .dataframe thead th {\n",
       "        text-align: right;\n",
       "    }\n",
       "</style>\n",
       "<table border=\"1\" class=\"dataframe\">\n",
       "  <thead>\n",
       "    <tr style=\"text-align: right;\">\n",
       "      <th></th>\n",
       "      <th>Date</th>\n",
       "      <th>Mean temparature</th>\n",
       "      <th>Year</th>\n",
       "      <th>Month</th>\n",
       "    </tr>\n",
       "    <tr>\n",
       "      <th>Date</th>\n",
       "      <th></th>\n",
       "      <th></th>\n",
       "      <th></th>\n",
       "      <th></th>\n",
       "    </tr>\n",
       "  </thead>\n",
       "  <tbody>\n",
       "    <tr>\n",
       "      <th>1988-01-01</th>\n",
       "      <td>1988-01-01</td>\n",
       "      <td>-23.0</td>\n",
       "      <td>1988</td>\n",
       "      <td>01</td>\n",
       "    </tr>\n",
       "    <tr>\n",
       "      <th>1988-01-02</th>\n",
       "      <td>1988-01-02</td>\n",
       "      <td>-20.5</td>\n",
       "      <td>1988</td>\n",
       "      <td>01</td>\n",
       "    </tr>\n",
       "    <tr>\n",
       "      <th>1988-01-03</th>\n",
       "      <td>1988-01-03</td>\n",
       "      <td>-22.0</td>\n",
       "      <td>1988</td>\n",
       "      <td>01</td>\n",
       "    </tr>\n",
       "    <tr>\n",
       "      <th>1988-01-04</th>\n",
       "      <td>1988-01-04</td>\n",
       "      <td>-30.5</td>\n",
       "      <td>1988</td>\n",
       "      <td>01</td>\n",
       "    </tr>\n",
       "    <tr>\n",
       "      <th>1988-01-05</th>\n",
       "      <td>1988-01-05</td>\n",
       "      <td>-31.0</td>\n",
       "      <td>1988</td>\n",
       "      <td>01</td>\n",
       "    </tr>\n",
       "  </tbody>\n",
       "</table>\n",
       "</div>"
      ],
      "text/plain": [
       "                  Date  Mean temparature  Year Month\n",
       "Date                                                \n",
       "1988-01-01  1988-01-01             -23.0  1988    01\n",
       "1988-01-02  1988-01-02             -20.5  1988    01\n",
       "1988-01-03  1988-01-03             -22.0  1988    01\n",
       "1988-01-04  1988-01-04             -30.5  1988    01\n",
       "1988-01-05  1988-01-05             -31.0  1988    01"
      ]
     },
     "execution_count": 142,
     "metadata": {},
     "output_type": "execute_result"
    }
   ],
   "source": [
    "df['Year'] = df['Date'].map(lambda m: pd.to_datetime(m, format='%Y-%m-%d').strftime('%Y'))\n",
    "df['Month'] = df['Date'].map(lambda m: pd.to_datetime(m, format='%Y-%m-%d').strftime('%m'))\n",
    "df.sort_values(by=['Year', 'Month'], inplace=True)\n",
    "# df['monthYear'] = df.index.map(lambda d: d.strftime('%m-%Y'))\n",
    "df.head()"
   ]
  },
  {
   "cell_type": "code",
   "execution_count": 143,
   "metadata": {},
   "outputs": [
    {
     "data": {
      "text/html": [
       "<div>\n",
       "<style scoped>\n",
       "    .dataframe tbody tr th:only-of-type {\n",
       "        vertical-align: middle;\n",
       "    }\n",
       "\n",
       "    .dataframe tbody tr th {\n",
       "        vertical-align: top;\n",
       "    }\n",
       "\n",
       "    .dataframe thead th {\n",
       "        text-align: right;\n",
       "    }\n",
       "</style>\n",
       "<table border=\"1\" class=\"dataframe\">\n",
       "  <thead>\n",
       "    <tr style=\"text-align: right;\">\n",
       "      <th></th>\n",
       "      <th></th>\n",
       "      <th>mean</th>\n",
       "      <th>median</th>\n",
       "      <th>std</th>\n",
       "    </tr>\n",
       "    <tr>\n",
       "      <th>Year</th>\n",
       "      <th>Month</th>\n",
       "      <th></th>\n",
       "      <th></th>\n",
       "      <th></th>\n",
       "    </tr>\n",
       "  </thead>\n",
       "  <tbody>\n",
       "    <tr>\n",
       "      <th rowspan=\"2\" valign=\"top\">1988</th>\n",
       "      <th>01</th>\n",
       "      <td>-22.137097</td>\n",
       "      <td>-23.0</td>\n",
       "      <td>5.260640</td>\n",
       "    </tr>\n",
       "    <tr>\n",
       "      <th>02</th>\n",
       "      <td>-19.025862</td>\n",
       "      <td>-19.5</td>\n",
       "      <td>8.598522</td>\n",
       "    </tr>\n",
       "  </tbody>\n",
       "</table>\n",
       "</div>"
      ],
      "text/plain": [
       "                 mean  median       std\n",
       "Year Month                             \n",
       "1988 01    -22.137097   -23.0  5.260640\n",
       "     02    -19.025862   -19.5  8.598522"
      ]
     },
     "execution_count": 143,
     "metadata": {},
     "output_type": "execute_result"
    }
   ],
   "source": [
    "monthly_stats = df.groupby(by=['Year', 'Month'])['Mean temparature'].aggregate([np.mean, np.median, np.std])\n",
    "monthly_stats.head(2)"
   ]
  },
  {
   "cell_type": "code",
   "execution_count": 144,
   "metadata": {},
   "outputs": [
    {
     "data": {
      "text/html": [
       "<div>\n",
       "<style scoped>\n",
       "    .dataframe tbody tr th:only-of-type {\n",
       "        vertical-align: middle;\n",
       "    }\n",
       "\n",
       "    .dataframe tbody tr th {\n",
       "        vertical-align: top;\n",
       "    }\n",
       "\n",
       "    .dataframe thead th {\n",
       "        text-align: right;\n",
       "    }\n",
       "</style>\n",
       "<table border=\"1\" class=\"dataframe\">\n",
       "  <thead>\n",
       "    <tr style=\"text-align: right;\">\n",
       "      <th></th>\n",
       "      <th>Year</th>\n",
       "      <th>Month</th>\n",
       "      <th>mean</th>\n",
       "      <th>median</th>\n",
       "      <th>std</th>\n",
       "    </tr>\n",
       "  </thead>\n",
       "  <tbody>\n",
       "    <tr>\n",
       "      <th>0</th>\n",
       "      <td>1988</td>\n",
       "      <td>01</td>\n",
       "      <td>-22.137097</td>\n",
       "      <td>-23.0</td>\n",
       "      <td>5.260640</td>\n",
       "    </tr>\n",
       "    <tr>\n",
       "      <th>1</th>\n",
       "      <td>1988</td>\n",
       "      <td>02</td>\n",
       "      <td>-19.025862</td>\n",
       "      <td>-19.5</td>\n",
       "      <td>8.598522</td>\n",
       "    </tr>\n",
       "  </tbody>\n",
       "</table>\n",
       "</div>"
      ],
      "text/plain": [
       "   Year Month       mean  median       std\n",
       "0  1988    01 -22.137097   -23.0  5.260640\n",
       "1  1988    02 -19.025862   -19.5  8.598522"
      ]
     },
     "execution_count": 144,
     "metadata": {},
     "output_type": "execute_result"
    }
   ],
   "source": [
    "monthly_stats.reset_index(inplace=True)\n",
    "monthly_stats.head(2)"
   ]
  },
  {
   "cell_type": "code",
   "execution_count": 145,
   "metadata": {},
   "outputs": [
    {
     "data": {
      "text/html": [
       "<div>\n",
       "<style scoped>\n",
       "    .dataframe tbody tr th:only-of-type {\n",
       "        vertical-align: middle;\n",
       "    }\n",
       "\n",
       "    .dataframe tbody tr th {\n",
       "        vertical-align: top;\n",
       "    }\n",
       "\n",
       "    .dataframe thead th {\n",
       "        text-align: right;\n",
       "    }\n",
       "</style>\n",
       "<table border=\"1\" class=\"dataframe\">\n",
       "  <thead>\n",
       "    <tr style=\"text-align: right;\">\n",
       "      <th></th>\n",
       "      <th>Year</th>\n",
       "      <th>Month</th>\n",
       "      <th>mean</th>\n",
       "      <th>median</th>\n",
       "      <th>std</th>\n",
       "      <th>monthYear</th>\n",
       "    </tr>\n",
       "  </thead>\n",
       "  <tbody>\n",
       "    <tr>\n",
       "      <th>0</th>\n",
       "      <td>1988</td>\n",
       "      <td>01</td>\n",
       "      <td>-22.137097</td>\n",
       "      <td>-23.0</td>\n",
       "      <td>5.260640</td>\n",
       "      <td>1988-01</td>\n",
       "    </tr>\n",
       "    <tr>\n",
       "      <th>1</th>\n",
       "      <td>1988</td>\n",
       "      <td>02</td>\n",
       "      <td>-19.025862</td>\n",
       "      <td>-19.5</td>\n",
       "      <td>8.598522</td>\n",
       "      <td>1988-02</td>\n",
       "    </tr>\n",
       "  </tbody>\n",
       "</table>\n",
       "</div>"
      ],
      "text/plain": [
       "   Year Month       mean  median       std monthYear\n",
       "0  1988    01 -22.137097   -23.0  5.260640   1988-01\n",
       "1  1988    02 -19.025862   -19.5  8.598522   1988-02"
      ]
     },
     "execution_count": 145,
     "metadata": {},
     "output_type": "execute_result"
    }
   ],
   "source": [
    "monthly_stats['monthYear'] = monthly_stats['Year']+'-'+monthly_stats['Month']\n",
    "monthly_stats.head(2)"
   ]
  },
  {
   "cell_type": "code",
   "execution_count": 146,
   "metadata": {},
   "outputs": [],
   "source": [
    "monthly_stats.set_index(['monthYear'], inplace=True)"
   ]
  },
  {
   "cell_type": "code",
   "execution_count": 54,
   "metadata": {},
   "outputs": [
    {
     "data": {
      "image/png": "[encoded data removed]",
      "text/plain": [
       "<Figure size 396x396 with 1 Axes>"
      ]
     },
     "metadata": {
      "needs_background": "light"
     },
     "output_type": "display_data"
    }
   ],
   "source": [
    "fig = plt.figure(figsize=(5.5, 5.5))\n",
    "monthly_stats['mean'].plot(color='b')\n",
    "monthly_stats['std'].plot(color='r')\n",
    "plt.title('Monthly statistics: Mean (blue) & Std. Dev. (red)');"
   ]
  },
  {
   "cell_type": "code",
   "execution_count": 147,
   "metadata": {},
   "outputs": [],
   "source": [
    "weekly_moving_average = df['Mean temparature'].rolling(7).mean()[::2]\n",
    "monthly_moving_average = df['Mean temparature'].rolling(30).mean()[::2]"
   ]
  },
  {
   "cell_type": "code",
   "execution_count": 150,
   "metadata": {},
   "outputs": [
    {
     "data": {
      "image/png": "[encoded data removed]",
      "text/plain": [
       "<Figure size 396x396 with 3 Axes>"
      ]
     },
     "metadata": {
      "needs_background": "light"
     },
     "output_type": "display_data"
    }
   ],
   "source": [
    "fig = plt.figure(figsize=(5.5, 5.5))\n",
    "ax0 = fig.add_subplot(311)\n",
    "df['Mean temparature'].plot(ax=ax0, color='b')\n",
    "ax0.set_title('Daily mean temparature')\n",
    "\n",
    "ax1 = fig.add_subplot(312)\n",
    "weekly_moving_average.plot(ax=ax1, color='r', sharex=ax0)\n",
    "axarr[1].set_title('Weekly moving average')\n",
    "\n",
    "ax2 = fig.add_subplot(313)\n",
    "monthly_moving_average.plot(ax=ax2, color='g', sharex=ax0)\n",
    "plt.title('Monthly moving average');\n",
    "    \n"
   ]
  },
  {
   "cell_type": "markdown",
   "metadata": {},
   "source": [
    "# Stationary processes\n",
    "\n",
    "__Stationarity__ requires that mean, variance, and autocorrelation to be invariant with respect to the actual time of observation, i.e. constant mean and constant variance without any predictable and repetitive patterns"
   ]
  },
  {
   "cell_type": "markdown",
   "metadata": {},
   "source": [
    "## Differencing\n",
    "\n",
    "Taking differences between successive occurrences of the time series\n",
    "\n",
    "$ \\delta x_t = x_t - x_{t-1}$\n",
    "\n",
    "such that $\\delta x_t$ has constant mean and variance and hence can be treated as a stationary series.\n",
    "\n",
    "### First order differencing\n",
    "\n",
    "Transformed series is given by $x_t - x_{t-1}$\n",
    "\n",
    "Such that the differences $\\delta x_t$ are irregular variations free from any long run trend or seasonality\n",
    "\n",
    "e.g. __Random walk__ series $x_t = x_{t-1} + \\epsilon_t$ is the sum of successive random variations, and is thus characterised by:\n",
    "* Long periosd of upward or downward trends\n",
    "* SUdden unpredictable changes in direction \n",
    "\n",
    "Therefore the random walk is non-stationary. The first difference is just $\\epsilon_t$, which is therefore stationary.\n",
    "\n",
    "Forecasts from the RW model are equal to the last observation as future movements are unpredictable, and are equally likely to be up or down. Thus, the random walk model underpins naïve forecasts.\n",
    "\n",
    "A closely related model allows the differences to have a non-zero mean. Then: \n",
    "\n",
    "$ x_t = c + x_{t-1} + \\epsilon_t$\n",
    "\n",
    "The value of $c$ is the average of the changes between consecutive observations. If $c$ is positive, then the average change is an increase in the value of  $x_t$. Thus,  $x_t$ will tend to drift upwards. However, if $c$ is negative, $x_t$ will tend to drift downwards. This is the model behind the drift method\n",
    "\n",
    "### Second order differencing\n",
    "\n",
    "Rarely required. \n",
    "Second order differenced time series is generated as follows:\n",
    "$$ (x_t - x_{t-1}) - (x_{t-1} - x_{t-2}) $$ \n",
    "The time series resulting from second-order differencing have N - 2 observations. \n",
    "\n",
    "### Seasonal differencing\n",
    "When a time series exhibits seasonality of a known time period of m time indices, it can be stationarized by taking seasonal differences between $x_t$ and $x_{t-m}$. These differences taken at lags of length m are indicative of the seasons or quarters in a year. In this case m = 12 and the differences are taken between original observations that are a year apart from each\n",
    "other. \n",
    "$$ x_t - x_{t-m}$\n",
    "\n",
    "## Statistical tests\n",
    "1. <font color='blue'>Ljung Box test</font>: $H_0$ of absence of serial correlation\n",
    "    * If p-value at a certain lag is > alpha (significance level), cannot reject null. i.e. Series has no significant autocorrelation\n",
    "    * If p-value < alpha, reject the null. i.e. Significant autocorrelation is present \n",
    "* <font color='blue'> ADF test </font>: $H_0$ of presence of unit root i.e. non-stationarity.\n",
    "    * If p-value at a certain lag is > alpha (significance level), cannot reject null. i.e. Series is non-stationary\n",
    "    * If p-value < alpha, reject the null. i.e. Series is stationary \n",
    "* <font color='blue'> KPSS test </font>: $H_0$ of trend stationary\n",
    "\n",
    "Both the augmented Dickey-Fuller (ADF) test and the Kwiatkowski, Phillips, Schmidt and Shin (KPSS) test are tailored for detecting nonstationarity in the form of a unit root in the process. (The test equations explicitly allow for a unit root; see the refence below.) However, they are not tailored for detecting other forms of nonstationarity, like the seasonal kind."
   ]
  },
  {
   "cell_type": "markdown",
   "metadata": {},
   "source": [
    "Let us check the differencing of Dow Jones Industrial average data from Jan to Dec'16, and evaluate ACFs and run the Ljung Box test to verify if the data gets stationarized"
   ]
  },
  {
   "cell_type": "code",
   "execution_count": 1,
   "metadata": {},
   "outputs": [],
   "source": [
    "import pandas as pd\n",
    "import numpy as np\n",
    "from statsmodels.tsa import stattools\n",
    "%matplotlib inline\n",
    "from matplotlib import pyplot as plt\n",
    "from pandas.plotting import autocorrelation_plot\n",
    "from statsmodels.graphics.tsaplots import plot_acf, plot_pacf"
   ]
  },
  {
   "cell_type": "code",
   "execution_count": 2,
   "metadata": {},
   "outputs": [
    {
     "data": {
      "text/html": [
       "<div>\n",
       "<style scoped>\n",
       "    .dataframe tbody tr th:only-of-type {\n",
       "        vertical-align: middle;\n",
       "    }\n",
       "\n",
       "    .dataframe tbody tr th {\n",
       "        vertical-align: top;\n",
       "    }\n",
       "\n",
       "    .dataframe thead th {\n",
       "        text-align: right;\n",
       "    }\n",
       "</style>\n",
       "<table border=\"1\" class=\"dataframe\">\n",
       "  <thead>\n",
       "    <tr style=\"text-align: right;\">\n",
       "      <th></th>\n",
       "      <th>Date</th>\n",
       "      <th>Open</th>\n",
       "      <th>High</th>\n",
       "      <th>Low</th>\n",
       "      <th>Close</th>\n",
       "      <th>Adj Close</th>\n",
       "      <th>Volume</th>\n",
       "    </tr>\n",
       "  </thead>\n",
       "  <tbody>\n",
       "    <tr>\n",
       "      <th>0</th>\n",
       "      <td>2016-01-04</td>\n",
       "      <td>17405.480469</td>\n",
       "      <td>17405.480469</td>\n",
       "      <td>16957.630859</td>\n",
       "      <td>17148.939453</td>\n",
       "      <td>17148.939453</td>\n",
       "      <td>148060000</td>\n",
       "    </tr>\n",
       "    <tr>\n",
       "      <th>1</th>\n",
       "      <td>2016-01-05</td>\n",
       "      <td>17147.500000</td>\n",
       "      <td>17195.839844</td>\n",
       "      <td>17038.609375</td>\n",
       "      <td>17158.660156</td>\n",
       "      <td>17158.660156</td>\n",
       "      <td>105750000</td>\n",
       "    </tr>\n",
       "    <tr>\n",
       "      <th>2</th>\n",
       "      <td>2016-01-06</td>\n",
       "      <td>17154.830078</td>\n",
       "      <td>17154.830078</td>\n",
       "      <td>16817.619141</td>\n",
       "      <td>16906.509766</td>\n",
       "      <td>16906.509766</td>\n",
       "      <td>120250000</td>\n",
       "    </tr>\n",
       "    <tr>\n",
       "      <th>3</th>\n",
       "      <td>2016-01-07</td>\n",
       "      <td>16888.359375</td>\n",
       "      <td>16888.359375</td>\n",
       "      <td>16463.630859</td>\n",
       "      <td>16514.099609</td>\n",
       "      <td>16514.099609</td>\n",
       "      <td>176240000</td>\n",
       "    </tr>\n",
       "    <tr>\n",
       "      <th>4</th>\n",
       "      <td>2016-01-08</td>\n",
       "      <td>16519.169922</td>\n",
       "      <td>16651.890625</td>\n",
       "      <td>16314.570313</td>\n",
       "      <td>16346.450195</td>\n",
       "      <td>16346.450195</td>\n",
       "      <td>141850000</td>\n",
       "    </tr>\n",
       "  </tbody>\n",
       "</table>\n",
       "</div>"
      ],
      "text/plain": [
       "        Date          Open          High           Low         Close  \\\n",
       "0 2016-01-04  17405.480469  17405.480469  16957.630859  17148.939453   \n",
       "1 2016-01-05  17147.500000  17195.839844  17038.609375  17158.660156   \n",
       "2 2016-01-06  17154.830078  17154.830078  16817.619141  16906.509766   \n",
       "3 2016-01-07  16888.359375  16888.359375  16463.630859  16514.099609   \n",
       "4 2016-01-08  16519.169922  16651.890625  16314.570313  16346.450195   \n",
       "\n",
       "      Adj Close     Volume  \n",
       "0  17148.939453  148060000  \n",
       "1  17158.660156  105750000  \n",
       "2  16906.509766  120250000  \n",
       "3  16514.099609  176240000  \n",
       "4  16346.450195  141850000  "
      ]
     },
     "execution_count": 2,
     "metadata": {},
     "output_type": "execute_result"
    }
   ],
   "source": [
    "djia_df = pd.read_excel('https://github.com/sri-spirited/Practical-Time-Series-Analysis-Python/blob/master/Data%20Files/DJIA_Jan2016_Dec2016.xlsx?raw=true')\n",
    "djia_df.head()"
   ]
  },
  {
   "cell_type": "code",
   "execution_count": 4,
   "metadata": {},
   "outputs": [
    {
     "data": {
      "text/plain": [
       "Date         datetime64[ns]\n",
       "Open                float64\n",
       "High                float64\n",
       "Low                 float64\n",
       "Close               float64\n",
       "Adj Close           float64\n",
       "Volume                int64\n",
       "dtype: object"
      ]
     },
     "execution_count": 4,
     "metadata": {},
     "output_type": "execute_result"
    }
   ],
   "source": [
    "djia_df.dtypes"
   ]
  },
  {
   "cell_type": "code",
   "execution_count": 5,
   "metadata": {},
   "outputs": [
    {
     "data": {
      "text/html": [
       "<div>\n",
       "<style scoped>\n",
       "    .dataframe tbody tr th:only-of-type {\n",
       "        vertical-align: middle;\n",
       "    }\n",
       "\n",
       "    .dataframe tbody tr th {\n",
       "        vertical-align: top;\n",
       "    }\n",
       "\n",
       "    .dataframe thead th {\n",
       "        text-align: right;\n",
       "    }\n",
       "</style>\n",
       "<table border=\"1\" class=\"dataframe\">\n",
       "  <thead>\n",
       "    <tr style=\"text-align: right;\">\n",
       "      <th></th>\n",
       "      <th>Open</th>\n",
       "      <th>High</th>\n",
       "      <th>Low</th>\n",
       "      <th>Close</th>\n",
       "      <th>Adj Close</th>\n",
       "      <th>Volume</th>\n",
       "    </tr>\n",
       "    <tr>\n",
       "      <th>Date</th>\n",
       "      <th></th>\n",
       "      <th></th>\n",
       "      <th></th>\n",
       "      <th></th>\n",
       "      <th></th>\n",
       "      <th></th>\n",
       "    </tr>\n",
       "  </thead>\n",
       "  <tbody>\n",
       "    <tr>\n",
       "      <th>2016-01-04</th>\n",
       "      <td>17405.480469</td>\n",
       "      <td>17405.480469</td>\n",
       "      <td>16957.630859</td>\n",
       "      <td>17148.939453</td>\n",
       "      <td>17148.939453</td>\n",
       "      <td>148060000</td>\n",
       "    </tr>\n",
       "    <tr>\n",
       "      <th>2016-01-05</th>\n",
       "      <td>17147.500000</td>\n",
       "      <td>17195.839844</td>\n",
       "      <td>17038.609375</td>\n",
       "      <td>17158.660156</td>\n",
       "      <td>17158.660156</td>\n",
       "      <td>105750000</td>\n",
       "    </tr>\n",
       "    <tr>\n",
       "      <th>2016-01-06</th>\n",
       "      <td>17154.830078</td>\n",
       "      <td>17154.830078</td>\n",
       "      <td>16817.619141</td>\n",
       "      <td>16906.509766</td>\n",
       "      <td>16906.509766</td>\n",
       "      <td>120250000</td>\n",
       "    </tr>\n",
       "    <tr>\n",
       "      <th>2016-01-07</th>\n",
       "      <td>16888.359375</td>\n",
       "      <td>16888.359375</td>\n",
       "      <td>16463.630859</td>\n",
       "      <td>16514.099609</td>\n",
       "      <td>16514.099609</td>\n",
       "      <td>176240000</td>\n",
       "    </tr>\n",
       "    <tr>\n",
       "      <th>2016-01-08</th>\n",
       "      <td>16519.169922</td>\n",
       "      <td>16651.890625</td>\n",
       "      <td>16314.570313</td>\n",
       "      <td>16346.450195</td>\n",
       "      <td>16346.450195</td>\n",
       "      <td>141850000</td>\n",
       "    </tr>\n",
       "  </tbody>\n",
       "</table>\n",
       "</div>"
      ],
      "text/plain": [
       "                    Open          High           Low         Close  \\\n",
       "Date                                                                 \n",
       "2016-01-04  17405.480469  17405.480469  16957.630859  17148.939453   \n",
       "2016-01-05  17147.500000  17195.839844  17038.609375  17158.660156   \n",
       "2016-01-06  17154.830078  17154.830078  16817.619141  16906.509766   \n",
       "2016-01-07  16888.359375  16888.359375  16463.630859  16514.099609   \n",
       "2016-01-08  16519.169922  16651.890625  16314.570313  16346.450195   \n",
       "\n",
       "               Adj Close     Volume  \n",
       "Date                                 \n",
       "2016-01-04  17148.939453  148060000  \n",
       "2016-01-05  17158.660156  105750000  \n",
       "2016-01-06  16906.509766  120250000  \n",
       "2016-01-07  16514.099609  176240000  \n",
       "2016-01-08  16346.450195  141850000  "
      ]
     },
     "execution_count": 5,
     "metadata": {},
     "output_type": "execute_result"
    }
   ],
   "source": [
    "djia_df.index = djia_df['Date']\n",
    "djia_df.drop(['Date'], axis=1, inplace=True)\n",
    "djia_df.head()"
   ]
  },
  {
   "cell_type": "code",
   "execution_count": 6,
   "metadata": {},
   "outputs": [
    {
     "data": {
      "text/plain": [
       "Date\n",
       "2016-01-04           NaN\n",
       "2016-01-05      9.720703\n",
       "2016-01-06   -252.150390\n",
       "2016-01-07   -392.410157\n",
       "2016-01-08   -167.649414\n",
       "Name: Close, dtype: float64"
      ]
     },
     "execution_count": 6,
     "metadata": {},
     "output_type": "execute_result"
    }
   ],
   "source": [
    "djia_1st_diff = djia_df['Close'] - djia_df['Close'].shift(1)\n",
    "djia_1st_diff.head()"
   ]
  },
  {
   "cell_type": "code",
   "execution_count": 17,
   "metadata": {},
   "outputs": [
    {
     "data": {
      "text/plain": [
       "<Figure size 396x396 with 0 Axes>"
      ]
     },
     "metadata": {},
     "output_type": "display_data"
    },
    {
     "data": {
      "image/png": "[encoded data removed]",
      "text/plain": [
       "<Figure size 432x288 with 2 Axes>"
      ]
     },
     "metadata": {
      "needs_background": "light"
     },
     "output_type": "display_data"
    }
   ],
   "source": [
    "plt.figure(figsize=(5.5, 5.5))\n",
    "fig, ax = plt.subplots(2, sharex=True)\n",
    "djia_df['Close'].plot(ax = ax[0], color='b')\n",
    "ax[0].set_title('Close values of DJIA')\n",
    "djia_1st_diff.plot(ax=ax[1], color='red')\n",
    "ax[1].set_title('First-order differences of DJIA');"
   ]
  },
  {
   "cell_type": "markdown",
   "metadata": {},
   "source": [
    "The first-differenced series appears to now be stationary.\n",
    "\n",
    "Let's look at the ACFs."
   ]
  },
  {
   "cell_type": "code",
   "execution_count": 20,
   "metadata": {},
   "outputs": [
    {
     "data": {
      "text/plain": [
       "<Figure size 540x540 with 0 Axes>"
      ]
     },
     "metadata": {},
     "output_type": "display_data"
    },
    {
     "data": {
      "image/png": "[encoded data removed]",
      "text/plain": [
       "<Figure size 432x288 with 2 Axes>"
      ]
     },
     "metadata": {
      "needs_background": "light"
     },
     "output_type": "display_data"
    }
   ],
   "source": [
    "plt.figure(figsize=(7.5, 7.5))\n",
    "fig, ax = plt.subplots(2, sharex=True)\n",
    "autocorrelation_plot(djia_df['Close'], color ='b', ax=ax[0])\n",
    "ax[0].set_title('ACF of DJIA closing values')\n",
    "autocorrelation_plot(djia_1st_diff.iloc[1:], color ='r', ax=ax[1])\n",
    "ax[1].set_title('ACF of DJIA first differenced closing values')\n",
    "plt.tight_layout(pad=0.4, w_pad=0.5, h_pad=2.0);"
   ]
  },
  {
   "cell_type": "markdown",
   "metadata": {},
   "source": [
    "Above, for the differenced series (red), ACF shows no predicatable pattern and drops suddenly close to 0.\n",
    "\n",
    "Let's obtain the confidence intervals, Ljung-Box Q-statistics and p-values for the original DJIA Close values"
   ]
  },
  {
   "cell_type": "code",
   "execution_count": 23,
   "metadata": {},
   "outputs": [],
   "source": [
    "acf, conf_int, q_stat, p_values = stattools.acf(djia_df['Close'], \n",
    "                                                unbiased=True,#If True, then denominators for autocovariance are n-k, else n\n",
    "                                                nlags=20,#Number of lags to return autocorrelation for\n",
    "                                                qstat=True, #If True, returns Ljung-Box q stat for each autocorrelation\n",
    "                                                alpha=0.05)#If alpha=.05, 95 % CIs are returned, where s.d. is computed according to Bartlett's formula"
   ]
  },
  {
   "cell_type": "markdown",
   "metadata": {},
   "source": [
    "At the confidence level 95%, let us check if the null hypothesis is rejected at any of the lags"
   ]
  },
  {
   "cell_type": "code",
   "execution_count": 30,
   "metadata": {},
   "outputs": [
    {
     "name": "stdout",
     "output_type": "stream",
     "text": [
      "Reject the null of no serial correlation at lag 0 for p-value 1.0693767753677146e-55\n",
      "Reject the null of no serial correlation at lag 1 for p-value 9.994326469628715e-107\n",
      "Reject the null of no serial correlation at lag 2 for p-value 3.514318635466978e-156\n",
      "Reject the null of no serial correlation at lag 3 for p-value 8.306783142365376e-204\n",
      "Reject the null of no serial correlation at lag 4 for p-value 1.3385232646531283e-249\n",
      "Reject the null of no serial correlation at lag 5 for p-value 1.1920943365344843e-293\n",
      "Reject the null of no serial correlation at lag 6 for p-value 0.0\n",
      "Reject the null of no serial correlation at lag 7 for p-value 0.0\n",
      "Reject the null of no serial correlation at lag 8 for p-value 0.0\n",
      "Reject the null of no serial correlation at lag 9 for p-value 0.0\n",
      "Reject the null of no serial correlation at lag 10 for p-value 0.0\n",
      "Reject the null of no serial correlation at lag 11 for p-value 0.0\n",
      "Reject the null of no serial correlation at lag 12 for p-value 0.0\n",
      "Reject the null of no serial correlation at lag 13 for p-value 0.0\n",
      "Reject the null of no serial correlation at lag 14 for p-value 0.0\n",
      "Reject the null of no serial correlation at lag 15 for p-value 0.0\n",
      "Reject the null of no serial correlation at lag 16 for p-value 0.0\n",
      "Reject the null of no serial correlation at lag 17 for p-value 0.0\n",
      "Reject the null of no serial correlation at lag 18 for p-value 0.0\n",
      "Reject the null of no serial correlation at lag 19 for p-value 0.0\n"
     ]
    }
   ],
   "source": [
    "# Recall that the enumerate function returns a list of tuples of pairs of index and the list entry \n",
    "for lag, p_value in enumerate(p_values):\n",
    "    if p_value>0.05:\n",
    "        print(\"Cannot reject null of no serial correlation at lag {} for p-value {}\".format(lag, p_value))\n",
    "    else:\n",
    "        print(\"Reject the null of no serial correlation at lag {} for p-value {}\".format(lag, p_value))"
   ]
  },
  {
   "cell_type": "markdown",
   "metadata": {},
   "source": [
    "The above results show that  ACF in the original DJIA Close values is statistically significant.\n",
    "There is serial correlation in the original series"
   ]
  },
  {
   "cell_type": "markdown",
   "metadata": {},
   "source": [
    "Now let's obtain the confidence intervals, Ljung-Box Q-statistics and p-values for the __differenced__ DJIA Close values"
   ]
  },
  {
   "cell_type": "code",
   "execution_count": 35,
   "metadata": {},
   "outputs": [],
   "source": [
    "acf_1stdiff, conf_int_1stdiff, q_stat_1stdiff, p_values_1stdiff = stattools.acf(djia_1st_diff.iloc[1:], \n",
    "                                                unbiased=True,#If True, then denominators for autocovariance are n-k, else n\n",
    "                                                nlags=20,#Number of lags to return autocorrelation for\n",
    "                                                qstat=True, #If True, returns Ljung-Box q stat for each autocorrelation\n",
    "                                                alpha=0.05)#If alpha=.05, 95 % CIs are returned, where s.d. is computed according to Bartlett's formula"
   ]
  },
  {
   "cell_type": "code",
   "execution_count": 32,
   "metadata": {},
   "outputs": [
    {
     "name": "stdout",
     "output_type": "stream",
     "text": [
      "Cannot reject null of no serial correlation at lag 0 for p-value 0.17569800898040236\n",
      "Cannot reject null of no serial correlation at lag 1 for p-value 0.35383008530092375\n",
      "Cannot reject null of no serial correlation at lag 2 for p-value 0.5531395640331853\n",
      "Cannot reject null of no serial correlation at lag 3 for p-value 0.6985127807558777\n",
      "Cannot reject null of no serial correlation at lag 4 for p-value 0.7891580120671385\n",
      "Cannot reject null of no serial correlation at lag 5 for p-value 0.8772903282781713\n",
      "Cannot reject null of no serial correlation at lag 6 for p-value 0.9012774835832821\n",
      "Cannot reject null of no serial correlation at lag 7 for p-value 0.9429823162379646\n",
      "Cannot reject null of no serial correlation at lag 8 for p-value 0.9485916556521747\n",
      "Cannot reject null of no serial correlation at lag 9 for p-value 0.9377977943700337\n",
      "Cannot reject null of no serial correlation at lag 10 for p-value 0.8937612607433125\n",
      "Cannot reject null of no serial correlation at lag 11 for p-value 0.9152190930215199\n",
      "Cannot reject null of no serial correlation at lag 12 for p-value 0.926324524389294\n",
      "Cannot reject null of no serial correlation at lag 13 for p-value 0.935072555400118\n",
      "Cannot reject null of no serial correlation at lag 14 for p-value 0.9404394685405837\n",
      "Cannot reject null of no serial correlation at lag 15 for p-value 0.9595778559852979\n",
      "Cannot reject null of no serial correlation at lag 16 for p-value 0.9443273303145854\n",
      "Cannot reject null of no serial correlation at lag 17 for p-value 0.8167727042338274\n",
      "Cannot reject null of no serial correlation at lag 18 for p-value 0.7007425456308608\n",
      "Cannot reject null of no serial correlation at lag 19 for p-value 0.5714550690697016\n"
     ]
    }
   ],
   "source": [
    "# Recall that the enumerate function returns a list of tuples of pairs of index and the list entry \n",
    "for lag, p_value in enumerate(p_values_1stdiff):\n",
    "    if p_value>0.05:\n",
    "        print(\"Cannot reject null of no serial correlation at lag {} for p-value {}\".format(lag, p_value))\n",
    "    else:\n",
    "        print(\"Reject the null of no serial correlation at lag {} for p-value {}\".format(lag, p_value))"
   ]
  },
  {
   "cell_type": "markdown",
   "metadata": {},
   "source": [
    "The above results show that ACF is essentially random in the differenced DJIA Close values"
   ]
  },
  {
   "cell_type": "markdown",
   "metadata": {},
   "source": [
    "__Fisher River daily temparature data__\n",
    "Lets aggregate up the daily data to monthly average, and try to stationarize by taking seasonal differences"
   ]
  },
  {
   "cell_type": "code",
   "execution_count": 38,
   "metadata": {},
   "outputs": [
    {
     "data": {
      "text/html": [
       "<div>\n",
       "<style scoped>\n",
       "    .dataframe tbody tr th:only-of-type {\n",
       "        vertical-align: middle;\n",
       "    }\n",
       "\n",
       "    .dataframe tbody tr th {\n",
       "        vertical-align: top;\n",
       "    }\n",
       "\n",
       "    .dataframe thead th {\n",
       "        text-align: right;\n",
       "    }\n",
       "</style>\n",
       "<table border=\"1\" class=\"dataframe\">\n",
       "  <thead>\n",
       "    <tr style=\"text-align: right;\">\n",
       "      <th></th>\n",
       "      <th>Date</th>\n",
       "      <th>Mean temparature</th>\n",
       "    </tr>\n",
       "  </thead>\n",
       "  <tbody>\n",
       "    <tr>\n",
       "      <th>0</th>\n",
       "      <td>1988-01-01</td>\n",
       "      <td>-23.0</td>\n",
       "    </tr>\n",
       "    <tr>\n",
       "      <th>1</th>\n",
       "      <td>1988-01-02</td>\n",
       "      <td>-20.5</td>\n",
       "    </tr>\n",
       "    <tr>\n",
       "      <th>2</th>\n",
       "      <td>1988-01-03</td>\n",
       "      <td>-22.0</td>\n",
       "    </tr>\n",
       "    <tr>\n",
       "      <th>3</th>\n",
       "      <td>1988-01-04</td>\n",
       "      <td>-30.5</td>\n",
       "    </tr>\n",
       "    <tr>\n",
       "      <th>4</th>\n",
       "      <td>1988-01-05</td>\n",
       "      <td>-31.0</td>\n",
       "    </tr>\n",
       "  </tbody>\n",
       "</table>\n",
       "</div>"
      ],
      "text/plain": [
       "         Date  Mean temparature\n",
       "0  1988-01-01             -23.0\n",
       "1  1988-01-02             -20.5\n",
       "2  1988-01-03             -22.0\n",
       "3  1988-01-04             -30.5\n",
       "4  1988-01-05             -31.0"
      ]
     },
     "execution_count": 38,
     "metadata": {},
     "output_type": "execute_result"
    }
   ],
   "source": [
    "daily_temp = pd.read_csv('https://raw.githubusercontent.com/sri-spirited/Practical-Time-Series-Analysis-Python/master/Data%20Files/mean-daily-temperature-fisher-river.csv')\n",
    "daily_temp.head()"
   ]
  },
  {
   "cell_type": "code",
   "execution_count": 39,
   "metadata": {},
   "outputs": [
    {
     "data": {
      "text/plain": [
       "Date                 object\n",
       "Mean temparature    float64\n",
       "dtype: object"
      ]
     },
     "execution_count": 39,
     "metadata": {},
     "output_type": "execute_result"
    }
   ],
   "source": [
    "daily_temp.dtypes"
   ]
  },
  {
   "cell_type": "code",
   "execution_count": 41,
   "metadata": {},
   "outputs": [],
   "source": [
    "daily_temp['Date'] = pd.to_datetime(daily_temp['Date'], format='%Y-%m-%d')"
   ]
  },
  {
   "cell_type": "code",
   "execution_count": 42,
   "metadata": {},
   "outputs": [
    {
     "data": {
      "text/plain": [
       "Date                datetime64[ns]\n",
       "Mean temparature           float64\n",
       "dtype: object"
      ]
     },
     "execution_count": 42,
     "metadata": {},
     "output_type": "execute_result"
    }
   ],
   "source": [
    "daily_temp.dtypes"
   ]
  },
  {
   "cell_type": "code",
   "execution_count": 45,
   "metadata": {},
   "outputs": [
    {
     "data": {
      "text/html": [
       "<div>\n",
       "<style scoped>\n",
       "    .dataframe tbody tr th:only-of-type {\n",
       "        vertical-align: middle;\n",
       "    }\n",
       "\n",
       "    .dataframe tbody tr th {\n",
       "        vertical-align: top;\n",
       "    }\n",
       "\n",
       "    .dataframe thead th {\n",
       "        text-align: right;\n",
       "    }\n",
       "</style>\n",
       "<table border=\"1\" class=\"dataframe\">\n",
       "  <thead>\n",
       "    <tr style=\"text-align: right;\">\n",
       "      <th></th>\n",
       "      <th>Mean temparature</th>\n",
       "    </tr>\n",
       "    <tr>\n",
       "      <th>Date</th>\n",
       "      <th></th>\n",
       "    </tr>\n",
       "  </thead>\n",
       "  <tbody>\n",
       "    <tr>\n",
       "      <th>1988-01-01</th>\n",
       "      <td>-23.0</td>\n",
       "    </tr>\n",
       "    <tr>\n",
       "      <th>1988-01-02</th>\n",
       "      <td>-20.5</td>\n",
       "    </tr>\n",
       "    <tr>\n",
       "      <th>1988-01-03</th>\n",
       "      <td>-22.0</td>\n",
       "    </tr>\n",
       "    <tr>\n",
       "      <th>1988-01-04</th>\n",
       "      <td>-30.5</td>\n",
       "    </tr>\n",
       "    <tr>\n",
       "      <th>1988-01-05</th>\n",
       "      <td>-31.0</td>\n",
       "    </tr>\n",
       "  </tbody>\n",
       "</table>\n",
       "</div>"
      ],
      "text/plain": [
       "            Mean temparature\n",
       "Date                        \n",
       "1988-01-01             -23.0\n",
       "1988-01-02             -20.5\n",
       "1988-01-03             -22.0\n",
       "1988-01-04             -30.5\n",
       "1988-01-05             -31.0"
      ]
     },
     "execution_count": 45,
     "metadata": {},
     "output_type": "execute_result"
    }
   ],
   "source": [
    "daily_temp.index = daily_temp['Date']\n",
    "daily_temp.drop(['Date'], axis=1, inplace=True)\n",
    "daily_temp.head()"
   ]
  },
  {
   "cell_type": "code",
   "execution_count": 47,
   "metadata": {},
   "outputs": [
    {
     "data": {
      "text/plain": [
       "<Figure size 432x432 with 0 Axes>"
      ]
     },
     "metadata": {},
     "output_type": "display_data"
    },
    {
     "data": {
      "image/png": "[encoded data removed]",
      "text/plain": [
       "<Figure size 432x288 with 1 Axes>"
      ]
     },
     "metadata": {
      "needs_background": "light"
     },
     "output_type": "display_data"
    }
   ],
   "source": [
    "plt.figure(figsize=(6,6))\n",
    "daily_temp.plot()\n",
    "plt.title('Daily temperatures of Fisher River');"
   ]
  },
  {
   "cell_type": "markdown",
   "metadata": {},
   "source": [
    "Seasonality is evident, with values peaking middle of each year. \n",
    "\n",
    "Lets make this a monthly time series"
   ]
  },
  {
   "cell_type": "code",
   "execution_count": 49,
   "metadata": {},
   "outputs": [
    {
     "data": {
      "text/plain": [
       "Date\n",
       "1988-01-31   -22.137097\n",
       "1988-02-29   -19.025862\n",
       "1988-03-31    -8.258065\n",
       "1988-04-30     2.641667\n",
       "1988-05-31    11.290323\n",
       "Freq: M, Name: Mean temparature, dtype: float64"
      ]
     },
     "execution_count": 49,
     "metadata": {},
     "output_type": "execute_result"
    }
   ],
   "source": [
    "monthly_resample = daily_temp['Mean temparature'].resample('M').mean()\n",
    "monthly_resample.head()"
   ]
  },
  {
   "cell_type": "code",
   "execution_count": 52,
   "metadata": {},
   "outputs": [
    {
     "data": {
      "image/png": "[encoded data removed]",
      "text/plain": [
       "<Figure size 396x396 with 1 Axes>"
      ]
     },
     "metadata": {
      "needs_background": "light"
     },
     "output_type": "display_data"
    }
   ],
   "source": [
    "fig = plt.figure(figsize=(5.5, 5.5))\n",
    "ax = fig.add_subplot(1,1,1)\n",
    "ax.set_title('Monthly mean temperatures of Fisher River')\n",
    "monthly_resample.plot(ax=ax);"
   ]
  },
  {
   "cell_type": "markdown",
   "metadata": {},
   "source": [
    "__ACF of monthly mean temparatures__"
   ]
  },
  {
   "cell_type": "code",
   "execution_count": 53,
   "metadata": {},
   "outputs": [
    {
     "data": {
      "image/png": "[encoded data removed]",
      "text/plain": [
       "<Figure size 432x288 with 1 Axes>"
      ]
     },
     "metadata": {
      "needs_background": "light"
     },
     "output_type": "display_data"
    }
   ],
   "source": [
    "autocorrelation_plot(monthly_resample)\n",
    "plt.title('ACF of monthly mean temperatures of Fisher River');"
   ]
  },
  {
   "cell_type": "markdown",
   "metadata": {},
   "source": [
    "The ACF of the monthly mean temperature of Fisher River swings above and below the 99% confidence intervals for several lags.\n",
    "Therefore, the monthly mean temperatures form a non-stationary time series due to seasonality.\n",
    "\n",
    "Let's verify this by looking at p-values from the Ljung-Box test."
   ]
  },
  {
   "cell_type": "code",
   "execution_count": 61,
   "metadata": {},
   "outputs": [],
   "source": [
    "_, _, _, p_val_monthly = stattools.acf(monthly_resample, unbiased=True, nlags=10, qstat=True, alpha=0.05)"
   ]
  },
  {
   "cell_type": "code",
   "execution_count": 64,
   "metadata": {},
   "outputs": [
    {
     "name": "stdout",
     "output_type": "stream",
     "text": [
      "Null hypothesis of no serial autocorrelation is rejected for lags:  [array([0, 1, 2, 3, 4, 5, 6, 7, 8, 9], dtype=int64)]\n"
     ]
    }
   ],
   "source": [
    "print('Null hypothesis of no serial autocorrelation is rejected for lags: ', list(np.where(p_val_monthly<0.05)))"
   ]
  },
  {
   "cell_type": "code",
   "execution_count": 57,
   "metadata": {},
   "outputs": [
    {
     "data": {
      "text/plain": [
       "Date\n",
       "1989-01-31    5.008065\n",
       "1989-02-28   -0.241995\n",
       "1989-03-31   -4.250000\n",
       "1989-04-30   -1.483333\n",
       "1989-05-31    0.193548\n",
       "Freq: M, Name: Mean temparature, dtype: float64"
      ]
     },
     "execution_count": 57,
     "metadata": {},
     "output_type": "execute_result"
    }
   ],
   "source": [
    "seasonal_diff = monthly_resample.diff(12)\n",
    "seasonal_diff = seasonal_diff[12:] # Drop 1st 12 values since NaN\n",
    "seasonal_diff[:5]"
   ]
  },
  {
   "cell_type": "code",
   "execution_count": 58,
   "metadata": {},
   "outputs": [
    {
     "data": {
      "image/png": "[encoded data removed]",
      "text/plain": [
       "<Figure size 432x288 with 1 Axes>"
      ]
     },
     "metadata": {
      "needs_background": "light"
     },
     "output_type": "display_data"
    }
   ],
   "source": [
    "seasonal_diff.plot()\n",
    "plt.title('Seasonal differences');"
   ]
  },
  {
   "cell_type": "markdown",
   "metadata": {},
   "source": [
    "The seasonal differences above seem to be random variations"
   ]
  },
  {
   "cell_type": "code",
   "execution_count": 60,
   "metadata": {},
   "outputs": [
    {
     "data": {
      "image/png": "[encoded data removed]",
      "text/plain": [
       "<Figure size 432x288 with 1 Axes>"
      ]
     },
     "metadata": {
      "needs_background": "light"
     },
     "output_type": "display_data"
    }
   ],
   "source": [
    "autocorrelation_plot(seasonal_diff)\n",
    "plt.title('ACF of seasonal differences');"
   ]
  },
  {
   "cell_type": "markdown",
   "metadata": {},
   "source": [
    "The ACF never crosses the 99% confidence intervals for lags 0 to 35.\n",
    "\n",
    "Let's also look at p-values from the Ljung Box test. "
   ]
  },
  {
   "cell_type": "code",
   "execution_count": 66,
   "metadata": {},
   "outputs": [
    {
     "name": "stdout",
     "output_type": "stream",
     "text": [
      "Null hypothesis of no serial autocorrelation is rejected for lags:  [array([], dtype=int64)]\n"
     ]
    }
   ],
   "source": [
    "_, _, _, p_val_seas_diff = stattools.acf(seasonal_diff, unbiased=True, nlags=10, qstat=True, alpha=0.05)\n",
    "print('Null hypothesis of no serial autocorrelation is rejected for lags: ', list(np.where(p_val_seas_diff<0.05)))"
   ]
  },
  {
   "cell_type": "markdown",
   "metadata": {},
   "source": [
    "There are no lags for which the null of no serial autocorrelation of Ljung Box's test is rejected."
   ]
  },
  {
   "cell_type": "markdown",
   "metadata": {},
   "source": [
    "__ADF Test__\n",
    "\n",
    "__Monthly mean temp data__"
   ]
  },
  {
   "cell_type": "code",
   "execution_count": 67,
   "metadata": {},
   "outputs": [],
   "source": [
    "from statsmodels.tsa import stattools"
   ]
  },
  {
   "cell_type": "code",
   "execution_count": 70,
   "metadata": {},
   "outputs": [
    {
     "name": "stdout",
     "output_type": "stream",
     "text": [
      "Test statistic          -5.597610\n",
      "p-value                  0.000001\n",
      "Lags used                7.000000\n",
      "No. of obs              40.000000\n",
      "Critical value (1%)     -3.605565\n",
      "Critical value (5%)     -2.937069\n",
      "Critical value (10%)    -2.606986\n",
      "dtype: float64\n"
     ]
    }
   ],
   "source": [
    "dftest = stattools.adfuller(monthly_resample, autolag='AIC')\n",
    "df_output = pd.Series(dftest[0:4], index=['Test statistic', 'p-value', 'Lags used', 'No. of obs'])\n",
    "    # Appending critical values to the df_output series \n",
    "for item, value in dftest[4].items():\n",
    "    df_output['Critical value (%s)'%item] = value\n",
    "print(df_output)"
   ]
  },
  {
   "cell_type": "markdown",
   "metadata": {},
   "source": [
    "Test statisitc of -5.59 is greater than all critical values, and p-value<0.05, this points us towards rejecting the null of stationarity. However, we cant conclude that monthly time series is non-stationary, as the ADF test cannot detect non-stationarity arising out of seasonality. "
   ]
  },
  {
   "cell_type": "code",
   "execution_count": 71,
   "metadata": {},
   "outputs": [
    {
     "name": "stdout",
     "output_type": "stream",
     "text": [
      "Test statistic         -6.422987e+00\n",
      "p-value                 1.772580e-08\n",
      "Lags used               0.000000e+00\n",
      "No. of obs              3.500000e+01\n",
      "Critical value (1%)    -3.632743e+00\n",
      "Critical value (5%)    -2.948510e+00\n",
      "Critical value (10%)   -2.613017e+00\n",
      "dtype: float64\n"
     ]
    }
   ],
   "source": [
    "dftest = stattools.adfuller(seasonal_diff, autolag='AIC')\n",
    "df_output = pd.Series(dftest[0:4], index=['Test statistic', 'p-value', 'Lags used', 'No. of obs'])\n",
    "    # Appending critical values to the df_output series \n",
    "for item, value in dftest[4].items():\n",
    "    df_output['Critical value (%s)'%item] = value\n",
    "print(df_output)"
   ]
  },
  {
   "cell_type": "markdown",
   "metadata": {},
   "source": [
    "# Time series decomposition\n",
    "\n",
    "Aims to model the long-term trend and seasonality and estimate the overall time series as a combination of them.\n",
    "\n",
    "Two popular models for time series decomposition are:\n",
    "1. __Additive model__: \n",
    "     * Formulates the original time series $x_t$ as the sum of the trend cycle $F_t$ and seasonal ($S_t$) components as follows:\n",
    "    $$x_t = F_t + S_t + \\epsilon_t$$\n",
    "    * The residuals $\\epsilon_t$ obtained after adjusting the trend and seasonal components are the irregular variations.\n",
    "    * The additive model is usually applied when there is a time-dependent trend cycle component, but independent seasonality that does not change over time.\n",
    "\n",
    "    \n",
    "* __Multiplicative model__\n",
    "    * Gives the time series as product of the trend, seasonal, and irregular components \n",
    "    * Useful when there is time-varying seasonality:\n",
    "    $$ x_t = F_t * S_t * \\epsilon_t $$\n",
    "    * By taking logarithm, the multiplicative model is converted to an additive model of log of the  components.\n",
    "    $$ log(x_t) = log(F_t) + log(S_t) + log(\\epsilon_t)$$\n",
    "\n",
    "<font color='blue'> Two popular methods for estimating the trend and seasonal components:\n",
    "1. Method of Moving Averages\n",
    "* Seasonal and Trend Decomposition using the Python package `statsmodels.tsa` </font>"
   ]
  },
  {
   "cell_type": "markdown",
   "metadata": {},
   "source": [
    "## Method of moving averages\n",
    "\n",
    "### Moving avgs & their smoothing effect\n",
    "MA at time index $t$ estimates avg trend component $F_t$. Calculated by taking avg of $t\\pm k$, where k is the range of the MA.\n",
    "\n",
    "The $m^{th}$ order MA, ${\\hat{F_t}}^m$, where $m=2k+1$, is given by: \n",
    "\n",
    "$$ \\hat{F_t} = \\frac{x_{t-k}+x_{t-k+1}+x_{t-k+2}+...+x_t+...+x_{t+k-1}+x_{t+k}}{2k+1}$$\n",
    "\n",
    "Smooths the original ts by eliminating random noise."
   ]
  },
  {
   "cell_type": "markdown",
   "metadata": {},
   "source": [
    "__Data: Daily IBM stock prices over 1962-65\n",
    "\n",
    "Lets plot 5-day MA with original series to see how the MA shows an estimate of trend-cycle pattern and produces a smoothing effect."
   ]
  },
  {
   "cell_type": "code",
   "execution_count": 72,
   "metadata": {},
   "outputs": [
    {
     "data": {
      "text/html": [
       "<div>\n",
       "<style scoped>\n",
       "    .dataframe tbody tr th:only-of-type {\n",
       "        vertical-align: middle;\n",
       "    }\n",
       "\n",
       "    .dataframe tbody tr th {\n",
       "        vertical-align: top;\n",
       "    }\n",
       "\n",
       "    .dataframe thead th {\n",
       "        text-align: right;\n",
       "    }\n",
       "</style>\n",
       "<table border=\"1\" class=\"dataframe\">\n",
       "  <thead>\n",
       "    <tr style=\"text-align: right;\">\n",
       "      <th></th>\n",
       "      <th>Date</th>\n",
       "      <th>IBM common stock closing prices</th>\n",
       "    </tr>\n",
       "  </thead>\n",
       "  <tbody>\n",
       "    <tr>\n",
       "      <th>0</th>\n",
       "      <td>1962-01-02</td>\n",
       "      <td>572.00</td>\n",
       "    </tr>\n",
       "    <tr>\n",
       "      <th>1</th>\n",
       "      <td>1962-01-03</td>\n",
       "      <td>577.00</td>\n",
       "    </tr>\n",
       "    <tr>\n",
       "      <th>2</th>\n",
       "      <td>1962-01-04</td>\n",
       "      <td>571.25</td>\n",
       "    </tr>\n",
       "    <tr>\n",
       "      <th>3</th>\n",
       "      <td>1962-01-05</td>\n",
       "      <td>560.00</td>\n",
       "    </tr>\n",
       "    <tr>\n",
       "      <th>4</th>\n",
       "      <td>1962-01-08</td>\n",
       "      <td>549.50</td>\n",
       "    </tr>\n",
       "  </tbody>\n",
       "</table>\n",
       "</div>"
      ],
      "text/plain": [
       "         Date  IBM common stock closing prices\n",
       "0  1962-01-02                           572.00\n",
       "1  1962-01-03                           577.00\n",
       "2  1962-01-04                           571.25\n",
       "3  1962-01-05                           560.00\n",
       "4  1962-01-08                           549.50"
      ]
     },
     "execution_count": 72,
     "metadata": {},
     "output_type": "execute_result"
    }
   ],
   "source": [
    "ibm_df = pd.read_csv('https://raw.githubusercontent.com/sri-spirited/Practical-Time-Series-Analysis-Python/master/Data%20Files/ibm-common-stock-closing-prices.csv')\n",
    "ibm_df.head()"
   ]
  },
  {
   "cell_type": "code",
   "execution_count": 73,
   "metadata": {},
   "outputs": [],
   "source": [
    "ibm_df.rename(columns={'IBM common stock closing prices':'Price'}, inplace=True)"
   ]
  },
  {
   "cell_type": "code",
   "execution_count": 76,
   "metadata": {},
   "outputs": [
    {
     "data": {
      "text/html": [
       "<div>\n",
       "<style scoped>\n",
       "    .dataframe tbody tr th:only-of-type {\n",
       "        vertical-align: middle;\n",
       "    }\n",
       "\n",
       "    .dataframe tbody tr th {\n",
       "        vertical-align: top;\n",
       "    }\n",
       "\n",
       "    .dataframe thead th {\n",
       "        text-align: right;\n",
       "    }\n",
       "</style>\n",
       "<table border=\"1\" class=\"dataframe\">\n",
       "  <thead>\n",
       "    <tr style=\"text-align: right;\">\n",
       "      <th></th>\n",
       "      <th>Date</th>\n",
       "      <th>Price</th>\n",
       "      <th>5day MA</th>\n",
       "    </tr>\n",
       "  </thead>\n",
       "  <tbody>\n",
       "    <tr>\n",
       "      <th>0</th>\n",
       "      <td>1962-01-02</td>\n",
       "      <td>572.00</td>\n",
       "      <td>NaN</td>\n",
       "    </tr>\n",
       "    <tr>\n",
       "      <th>1</th>\n",
       "      <td>1962-01-03</td>\n",
       "      <td>577.00</td>\n",
       "      <td>NaN</td>\n",
       "    </tr>\n",
       "    <tr>\n",
       "      <th>2</th>\n",
       "      <td>1962-01-04</td>\n",
       "      <td>571.25</td>\n",
       "      <td>NaN</td>\n",
       "    </tr>\n",
       "    <tr>\n",
       "      <th>3</th>\n",
       "      <td>1962-01-05</td>\n",
       "      <td>560.00</td>\n",
       "      <td>NaN</td>\n",
       "    </tr>\n",
       "    <tr>\n",
       "      <th>4</th>\n",
       "      <td>1962-01-08</td>\n",
       "      <td>549.50</td>\n",
       "      <td>565.95</td>\n",
       "    </tr>\n",
       "  </tbody>\n",
       "</table>\n",
       "</div>"
      ],
      "text/plain": [
       "         Date   Price  5day MA\n",
       "0  1962-01-02  572.00      NaN\n",
       "1  1962-01-03  577.00      NaN\n",
       "2  1962-01-04  571.25      NaN\n",
       "3  1962-01-05  560.00      NaN\n",
       "4  1962-01-08  549.50   565.95"
      ]
     },
     "execution_count": 76,
     "metadata": {},
     "output_type": "execute_result"
    }
   ],
   "source": [
    "ibm_df['5day MA']=ibm_df['Price'].rolling(5).mean() # Avg of last 5 months\n",
    "ibm_df.head()"
   ]
  },
  {
   "cell_type": "code",
   "execution_count": 85,
   "metadata": {},
   "outputs": [
    {
     "data": {
      "text/plain": [
       "<Figure size 432x432 with 0 Axes>"
      ]
     },
     "metadata": {},
     "output_type": "display_data"
    },
    {
     "data": {
      "image/png": "[encoded data removed]",
      "text/plain": [
       "<Figure size 432x288 with 2 Axes>"
      ]
     },
     "metadata": {
      "needs_background": "light"
     },
     "output_type": "display_data"
    }
   ],
   "source": [
    "plt.figure(figsize=(6,6));\n",
    "fig, ax = plt.subplots(2, sharex=True);\n",
    "ibm_df['Price'].plot(ax=ax[0], color='b')\n",
    "ax[0].set_title('Daily closing prices of IBM stock');\n",
    "ibm_df['5day MA'].plot(ax=ax[1], color='r')\n",
    "ax[1].set_title('5-day MA of IBM stock');"
   ]
  },
  {
   "cell_type": "markdown",
   "metadata": {},
   "source": [
    "### Seasonal adjustment using moving avg\n",
    "\n",
    "__Data__: quarterly beer production is taken during March 1956 to June 1994."
   ]
  },
  {
   "cell_type": "code",
   "execution_count": 86,
   "metadata": {},
   "outputs": [
    {
     "data": {
      "text/html": [
       "<div>\n",
       "<style scoped>\n",
       "    .dataframe tbody tr th:only-of-type {\n",
       "        vertical-align: middle;\n",
       "    }\n",
       "\n",
       "    .dataframe tbody tr th {\n",
       "        vertical-align: top;\n",
       "    }\n",
       "\n",
       "    .dataframe thead th {\n",
       "        text-align: right;\n",
       "    }\n",
       "</style>\n",
       "<table border=\"1\" class=\"dataframe\">\n",
       "  <thead>\n",
       "    <tr style=\"text-align: right;\">\n",
       "      <th></th>\n",
       "      <th>Quarter</th>\n",
       "      <th>Quarterly beer production in Australia: megalitres. March 1956 ? June 1994</th>\n",
       "    </tr>\n",
       "  </thead>\n",
       "  <tbody>\n",
       "    <tr>\n",
       "      <th>0</th>\n",
       "      <td>1956Q1</td>\n",
       "      <td>284.4</td>\n",
       "    </tr>\n",
       "    <tr>\n",
       "      <th>1</th>\n",
       "      <td>1956Q2</td>\n",
       "      <td>212.8</td>\n",
       "    </tr>\n",
       "    <tr>\n",
       "      <th>2</th>\n",
       "      <td>1956Q3</td>\n",
       "      <td>226.9</td>\n",
       "    </tr>\n",
       "    <tr>\n",
       "      <th>3</th>\n",
       "      <td>1956Q4</td>\n",
       "      <td>308.4</td>\n",
       "    </tr>\n",
       "    <tr>\n",
       "      <th>4</th>\n",
       "      <td>1957Q1</td>\n",
       "      <td>262.0</td>\n",
       "    </tr>\n",
       "  </tbody>\n",
       "</table>\n",
       "</div>"
      ],
      "text/plain": [
       "  Quarter  \\\n",
       "0  1956Q1   \n",
       "1  1956Q2   \n",
       "2  1956Q3   \n",
       "3  1956Q4   \n",
       "4  1957Q1   \n",
       "\n",
       "   Quarterly beer production in Australia: megalitres. March 1956 ? June 1994  \n",
       "0                                              284.4                           \n",
       "1                                              212.8                           \n",
       "2                                              226.9                           \n",
       "3                                              308.4                           \n",
       "4                                              262.0                           "
      ]
     },
     "execution_count": 86,
     "metadata": {},
     "output_type": "execute_result"
    }
   ],
   "source": [
    "beer_df = pd.read_csv('https://raw.githubusercontent.com/sri-spirited/Practical-Time-Series-Analysis-Python/master/Data%20Files/quarterly-beer-production-in-aus-March%201956-June%201994.csv')\n",
    "beer_df.head()"
   ]
  },
  {
   "cell_type": "code",
   "execution_count": 87,
   "metadata": {},
   "outputs": [],
   "source": [
    "beer_df.index = beer_df['Quarter']"
   ]
  },
  {
   "cell_type": "code",
   "execution_count": 88,
   "metadata": {},
   "outputs": [],
   "source": [
    "beer_df.rename(columns={'Quarterly beer production in Australia: megalitres. March 1956 ? June 1994': 'Beer_Prod' },\n",
    "               inplace=True\n",
    "              )"
   ]
  },
  {
   "cell_type": "code",
   "execution_count": 89,
   "metadata": {},
   "outputs": [
    {
     "data": {
      "text/html": [
       "<div>\n",
       "<style scoped>\n",
       "    .dataframe tbody tr th:only-of-type {\n",
       "        vertical-align: middle;\n",
       "    }\n",
       "\n",
       "    .dataframe tbody tr th {\n",
       "        vertical-align: top;\n",
       "    }\n",
       "\n",
       "    .dataframe thead th {\n",
       "        text-align: right;\n",
       "    }\n",
       "</style>\n",
       "<table border=\"1\" class=\"dataframe\">\n",
       "  <thead>\n",
       "    <tr style=\"text-align: right;\">\n",
       "      <th></th>\n",
       "      <th>Quarter</th>\n",
       "      <th>Beer_Prod</th>\n",
       "    </tr>\n",
       "    <tr>\n",
       "      <th>Quarter</th>\n",
       "      <th></th>\n",
       "      <th></th>\n",
       "    </tr>\n",
       "  </thead>\n",
       "  <tbody>\n",
       "    <tr>\n",
       "      <th>1956Q1</th>\n",
       "      <td>1956Q1</td>\n",
       "      <td>284.4</td>\n",
       "    </tr>\n",
       "    <tr>\n",
       "      <th>1956Q2</th>\n",
       "      <td>1956Q2</td>\n",
       "      <td>212.8</td>\n",
       "    </tr>\n",
       "    <tr>\n",
       "      <th>1956Q3</th>\n",
       "      <td>1956Q3</td>\n",
       "      <td>226.9</td>\n",
       "    </tr>\n",
       "    <tr>\n",
       "      <th>1956Q4</th>\n",
       "      <td>1956Q4</td>\n",
       "      <td>308.4</td>\n",
       "    </tr>\n",
       "    <tr>\n",
       "      <th>1957Q1</th>\n",
       "      <td>1957Q1</td>\n",
       "      <td>262.0</td>\n",
       "    </tr>\n",
       "  </tbody>\n",
       "</table>\n",
       "</div>"
      ],
      "text/plain": [
       "        Quarter  Beer_Prod\n",
       "Quarter                   \n",
       "1956Q1   1956Q1      284.4\n",
       "1956Q2   1956Q2      212.8\n",
       "1956Q3   1956Q3      226.9\n",
       "1956Q4   1956Q4      308.4\n",
       "1957Q1   1957Q1      262.0"
      ]
     },
     "execution_count": 89,
     "metadata": {},
     "output_type": "execute_result"
    }
   ],
   "source": [
    "beer_df.head()"
   ]
  },
  {
   "cell_type": "code",
   "execution_count": 90,
   "metadata": {},
   "outputs": [
    {
     "name": "stdout",
     "output_type": "stream",
     "text": [
      "(155, 2)\n"
     ]
    },
    {
     "data": {
      "text/plain": [
       "(154, 2)"
      ]
     },
     "execution_count": 90,
     "metadata": {},
     "output_type": "execute_result"
    }
   ],
   "source": [
    "print(beer_df.shape)\n",
    "beer_df.dropna(axis=0, inplace=True)\n",
    "beer_df.shape"
   ]
  },
  {
   "cell_type": "code",
   "execution_count": 97,
   "metadata": {},
   "outputs": [],
   "source": [
    "MA4 = beer_df['Beer_Prod'].rolling(window=4).mean()\n",
    "TwoXMA4 = MA4.rolling(window=2).mean()\n",
    "TwoXMA4.dropna(axis=0, inplace=True)"
   ]
  },
  {
   "cell_type": "code",
   "execution_count": 102,
   "metadata": {},
   "outputs": [
    {
     "data": {
      "text/plain": [
       "Text(0.5, 1.0, 'Quaterly Beer Production between in Australia and 2X4 quarter MA')"
      ]
     },
     "execution_count": 102,
     "metadata": {},
     "output_type": "execute_result"
    },
    {
     "data": {
      "image/png": "[encoded data removed]",
      "text/plain": [
       "<Figure size 432x288 with 2 Axes>"
      ]
     },
     "metadata": {
      "needs_background": "light"
     },
     "output_type": "display_data"
    }
   ],
   "source": [
    "fig, ax = plt.subplots(2, sharex=True)\n",
    "beer_df['Beer_Prod'].plot(ax=ax[0], color='b', linestyle='-')\n",
    "TwoXMA4.plot(ax=ax[1], color='r', linestyle='-')\n",
    "plt.xticks(rotation=60)\n",
    "plt.title('Quaterly Beer Production between in Australia and 2X4 quarter MA')"
   ]
  },
  {
   "cell_type": "markdown",
   "metadata": {},
   "source": [
    "The original time series on the quarterly beer productions has trend as well as seasonality and therefore is not stationary. Let us see if we can stationarize the time series by first removing the trend component and then taking seasonal differences.\n",
    "We start by taking residuals left after removing the trend component:"
   ]
  },
  {
   "cell_type": "code",
   "execution_count": 103,
   "metadata": {},
   "outputs": [],
   "source": [
    "residuals = beer_df['Beer_Prod']-TwoXMA4\n",
    "residuals = residuals.loc[~pd.isnull(residuals)]"
   ]
  },
  {
   "cell_type": "code",
   "execution_count": 104,
   "metadata": {},
   "outputs": [
    {
     "data": {
      "text/plain": [
       "Text(0.5, 1.0, 'Residuals in Quaterly Beer Production time series')"
      ]
     },
     "execution_count": 104,
     "metadata": {},
     "output_type": "execute_result"
    },
    {
     "data": {
      "image/png": "[encoded data removed]",
      "text/plain": [
       "<Figure size 432x288 with 1 Axes>"
      ]
     },
     "metadata": {
      "needs_background": "light"
     },
     "output_type": "display_data"
    }
   ],
   "source": [
    "residuals.plot(color='b', linestyle='-')\n",
    "plt.xticks(rotation=60)\n",
    "plt.title('Residuals in Quaterly Beer Production time series')"
   ]
  },
  {
   "cell_type": "markdown",
   "metadata": {},
   "source": [
    "At this point we will check whether the residuals are already stationarized (though unlikely!) by plotting the autocorrelation function along with the 99% confidence intervals."
   ]
  },
  {
   "cell_type": "code",
   "execution_count": 106,
   "metadata": {},
   "outputs": [
    {
     "data": {
      "image/png": "[encoded data removed]",
      "text/plain": [
       "<Figure size 432x288 with 1 Axes>"
      ]
     },
     "metadata": {
      "needs_background": "light"
     },
     "output_type": "display_data"
    }
   ],
   "source": [
    "autocorrelation_plot(residuals);"
   ]
  },
  {
   "cell_type": "markdown",
   "metadata": {},
   "source": [
    "Clearly, the residuals have a strong autocorrelation with the ACF outside the confidence intervals for several lags. So we would need to take seasonal difference on the residuals. The period of seasonality can be determined based on the fact that the\n",
    "original data is obtained from all quarters of the years and shows seasonality of the quarter. This means that the residuals in quarter one of a year is close in magnitude to the residuals from quarter one of the preceding and succeeding years. We take differences over periods of four time units as follows:"
   ]
  },
  {
   "cell_type": "code",
   "execution_count": 107,
   "metadata": {},
   "outputs": [
    {
     "data": {
      "text/plain": [
       "<matplotlib.axes._subplots.AxesSubplot at 0x21177c78d68>"
      ]
     },
     "execution_count": 107,
     "metadata": {},
     "output_type": "execute_result"
    },
    {
     "data": {
      "image/png": "[encoded data removed]",
      "text/plain": [
       "<Figure size 432x288 with 1 Axes>"
      ]
     },
     "metadata": {
      "needs_background": "light"
     },
     "output_type": "display_data"
    }
   ],
   "source": [
    "residuals_qtr_diff = residuals.diff(4)\n",
    "residuals_qtr_diff = residuals_qtr_diff.loc[~pd.isnull(residuals_qtr_diff)]\n",
    "autocorrelation_plot(residuals_qtr_diff);"
   ]
  },
  {
   "cell_type": "markdown",
   "metadata": {},
   "source": [
    "mostly randomly ACF. Besides, the ACF falls outside the 99% confidence intervals only for two lags"
   ]
  },
  {
   "cell_type": "markdown",
   "metadata": {},
   "source": [
    "### Weighted moving average"
   ]
  },
  {
   "cell_type": "markdown",
   "metadata": {},
   "source": [
    "### Time series decomposition using moving avgs"
   ]
  },
  {
   "cell_type": "code",
   "execution_count": 108,
   "metadata": {},
   "outputs": [],
   "source": [
    "air_miles = pd.read_csv('https://raw.githubusercontent.com/sri-spirited/Practical-Time-Series-Analysis-Python/master/Data%20Files/us-airlines-monthly-aircraft-miles-flown.csv')"
   ]
  },
  {
   "cell_type": "code",
   "execution_count": 109,
   "metadata": {},
   "outputs": [
    {
     "name": "stdout",
     "output_type": "stream",
     "text": [
      "Shape of the DataFrame: (97, 2)\n"
     ]
    }
   ],
   "source": [
    "air_miles.index = air_miles['Month']\n",
    "print('Shape of the DataFrame:', air_miles.shape)"
   ]
  },
  {
   "cell_type": "code",
   "execution_count": 110,
   "metadata": {},
   "outputs": [
    {
     "data": {
      "text/html": [
       "<div>\n",
       "<style scoped>\n",
       "    .dataframe tbody tr th:only-of-type {\n",
       "        vertical-align: middle;\n",
       "    }\n",
       "\n",
       "    .dataframe tbody tr th {\n",
       "        vertical-align: top;\n",
       "    }\n",
       "\n",
       "    .dataframe thead th {\n",
       "        text-align: right;\n",
       "    }\n",
       "</style>\n",
       "<table border=\"1\" class=\"dataframe\">\n",
       "  <thead>\n",
       "    <tr style=\"text-align: right;\">\n",
       "      <th></th>\n",
       "      <th>Month</th>\n",
       "      <th>U.S. airlines: monthly aircraft miles flown (Millions) 1963 -1970</th>\n",
       "    </tr>\n",
       "    <tr>\n",
       "      <th>Month</th>\n",
       "      <th></th>\n",
       "      <th></th>\n",
       "    </tr>\n",
       "  </thead>\n",
       "  <tbody>\n",
       "    <tr>\n",
       "      <th>1963-01</th>\n",
       "      <td>1963-01</td>\n",
       "      <td>6827.0</td>\n",
       "    </tr>\n",
       "    <tr>\n",
       "      <th>1963-02</th>\n",
       "      <td>1963-02</td>\n",
       "      <td>6178.0</td>\n",
       "    </tr>\n",
       "    <tr>\n",
       "      <th>1963-03</th>\n",
       "      <td>1963-03</td>\n",
       "      <td>7084.0</td>\n",
       "    </tr>\n",
       "    <tr>\n",
       "      <th>1963-04</th>\n",
       "      <td>1963-04</td>\n",
       "      <td>8162.0</td>\n",
       "    </tr>\n",
       "    <tr>\n",
       "      <th>1963-05</th>\n",
       "      <td>1963-05</td>\n",
       "      <td>8462.0</td>\n",
       "    </tr>\n",
       "    <tr>\n",
       "      <th>1963-06</th>\n",
       "      <td>1963-06</td>\n",
       "      <td>9644.0</td>\n",
       "    </tr>\n",
       "    <tr>\n",
       "      <th>1963-07</th>\n",
       "      <td>1963-07</td>\n",
       "      <td>10466.0</td>\n",
       "    </tr>\n",
       "    <tr>\n",
       "      <th>1963-08</th>\n",
       "      <td>1963-08</td>\n",
       "      <td>10748.0</td>\n",
       "    </tr>\n",
       "    <tr>\n",
       "      <th>1963-09</th>\n",
       "      <td>1963-09</td>\n",
       "      <td>9963.0</td>\n",
       "    </tr>\n",
       "    <tr>\n",
       "      <th>1963-10</th>\n",
       "      <td>1963-10</td>\n",
       "      <td>8194.0</td>\n",
       "    </tr>\n",
       "  </tbody>\n",
       "</table>\n",
       "</div>"
      ],
      "text/plain": [
       "           Month  \\\n",
       "Month              \n",
       "1963-01  1963-01   \n",
       "1963-02  1963-02   \n",
       "1963-03  1963-03   \n",
       "1963-04  1963-04   \n",
       "1963-05  1963-05   \n",
       "1963-06  1963-06   \n",
       "1963-07  1963-07   \n",
       "1963-08  1963-08   \n",
       "1963-09  1963-09   \n",
       "1963-10  1963-10   \n",
       "\n",
       "         U.S. airlines: monthly aircraft miles flown (Millions) 1963 -1970  \n",
       "Month                                                                       \n",
       "1963-01                                             6827.0                  \n",
       "1963-02                                             6178.0                  \n",
       "1963-03                                             7084.0                  \n",
       "1963-04                                             8162.0                  \n",
       "1963-05                                             8462.0                  \n",
       "1963-06                                             9644.0                  \n",
       "1963-07                                            10466.0                  \n",
       "1963-08                                            10748.0                  \n",
       "1963-09                                             9963.0                  \n",
       "1963-10                                             8194.0                  "
      ]
     },
     "execution_count": 110,
     "metadata": {},
     "output_type": "execute_result"
    }
   ],
   "source": [
    "air_miles.head(10)"
   ]
  },
  {
   "cell_type": "code",
   "execution_count": 111,
   "metadata": {},
   "outputs": [],
   "source": [
    "air_miles.rename(columns={'U.S. airlines: monthly aircraft miles flown (Millions) 1963 -1970': 'Air miles flown' \n",
    "                         }, inplace=True)"
   ]
  },
  {
   "cell_type": "code",
   "execution_count": 112,
   "metadata": {},
   "outputs": [
    {
     "name": "stdout",
     "output_type": "stream",
     "text": [
      "(97, 2)\n",
      "(96, 2)\n"
     ]
    }
   ],
   "source": [
    "print(air_miles.shape)\n",
    "air_miles = air_miles.loc[~ pd.isnull(air_miles['Air miles flown']), :]\n",
    "print(air_miles.shape)"
   ]
  },
  {
   "cell_type": "code",
   "execution_count": 113,
   "metadata": {},
   "outputs": [],
   "source": [
    "MA12 = air_miles['Air miles flown'].rolling(window=12).mean()\n",
    "trendComp = MA12.rolling(window=2).mean()\n",
    "residuals = air_miles['Air miles flown'] - trendComp"
   ]
  },
  {
   "cell_type": "markdown",
   "metadata": {},
   "source": [
    "For the additive model, the seasonal component is obtained by subtracting the trend-cycle from the original time series and taking month wise averages for the residuals. The groupby\n",
    "operation is used to compute the seasonal component as follows:"
   ]
  },
  {
   "cell_type": "code",
   "execution_count": 114,
   "metadata": {},
   "outputs": [
    {
     "name": "stderr",
     "output_type": "stream",
     "text": [
      "C:\\Users\\sridevi.tolety\\AppData\\Local\\Continuum\\anaconda3\\lib\\site-packages\\ipykernel_launcher.py:6: FutureWarning: Method .as_matrix will be removed in a future version. Use .values instead.\n",
      "  \n"
     ]
    }
   ],
   "source": [
    "month = air_miles['Month'].map(lambda d: d[-2:])\n",
    "monthwise_avg = residuals.groupby(by=month).aggregate(['mean'])\n",
    "\n",
    "nb_years = 1970-1963+1\n",
    "\n",
    "seasonalComp = np.array([monthwise_avg.as_matrix()]*nb_years).reshape((12*nb_years,))"
   ]
  },
  {
   "cell_type": "code",
   "execution_count": 115,
   "metadata": {},
   "outputs": [],
   "source": [
    "irr_var = air_miles['Air miles flown'] - trendComp - seasonalComp"
   ]
  },
  {
   "cell_type": "code",
   "execution_count": 116,
   "metadata": {},
   "outputs": [
    {
     "data": {
      "image/png": "[encoded data removed]",
      "text/plain": [
       "<Figure size 396x396 with 4 Axes>"
      ]
     },
     "metadata": {
      "needs_background": "light"
     },
     "output_type": "display_data"
    }
   ],
   "source": [
    "fig, axarr = plt.subplots(4, sharex=True)\n",
    "fig.set_size_inches(5.5, 5.5)\n",
    "\n",
    "air_miles['Air miles flown'].plot(ax=axarr[0], color='b', linestyle='-')\n",
    "axarr[0].set_title('Monthly air miles')\n",
    "\n",
    "pd.Series(data=trendComp, index=air_miles.index).plot(ax=axarr[1], color='r', linestyle='-')\n",
    "axarr[1].set_title('Trend component in monthly air miles')\n",
    "\n",
    "pd.Series(data=seasonalComp, index=air_miles.index).plot(ax=axarr[2], color='g', linestyle='-')\n",
    "axarr[2].set_title('Seasonal component in monthly air miles')\n",
    "\n",
    "pd.Series(data=irr_var, index=air_miles.index).plot(ax=axarr[3], color='k', linestyle='-')\n",
    "axarr[3].set_title('Irregular variations in monthly air miles')\n",
    "\n",
    "plt.tight_layout(pad=0.4, w_pad=0.5, h_pad=2.0)"
   ]
  },
  {
   "cell_type": "code",
   "execution_count": 117,
   "metadata": {},
   "outputs": [
    {
     "name": "stdout",
     "output_type": "stream",
     "text": [
      "Test statistic          -2.750028\n",
      "p-value                  0.065774\n",
      "Lags used               10.000000\n",
      "No. of obs              73.000000\n",
      "Critical value (1%)     -3.523284\n",
      "Critical value (5%)     -2.902031\n",
      "Critical value (10%)    -2.588371\n",
      "dtype: float64\n"
     ]
    }
   ],
   "source": [
    "dftest = stattools.adfuller(irr_var.loc[~pd.isnull(irr_var)], autolag='AIC')\n",
    "df_output = pd.Series(dftest[0:4], index=['Test statistic', 'p-value', 'Lags used', 'No. of obs'])\n",
    "    # Appending critical values to the df_output series \n",
    "for item, value in dftest[4].items():\n",
    "    df_output['Critical value (%s)'%item] = value\n",
    "print(df_output)"
   ]
  },
  {
   "cell_type": "markdown",
   "metadata": {},
   "source": [
    "At confidence level of 90% (alpha=0.10), the null hypothesis on stationarity of the irregular variations can be accepted."
   ]
  },
  {
   "cell_type": "markdown",
   "metadata": {},
   "source": [
    "The trend-cycle estimation by MA is applicable even for the multiplicative model. However, calculation of the seasonal component changes:"
   ]
  },
  {
   "cell_type": "code",
   "execution_count": 118,
   "metadata": {},
   "outputs": [
    {
     "name": "stderr",
     "output_type": "stream",
     "text": [
      "C:\\Users\\sridevi.tolety\\AppData\\Local\\Continuum\\anaconda3\\lib\\site-packages\\ipykernel_launcher.py:8: FutureWarning: Method .as_matrix will be removed in a future version. Use .values instead.\n",
      "  \n"
     ]
    }
   ],
   "source": [
    "residuals = air_miles['Air miles flown'] / trendComp\n",
    "\n",
    "month = air_miles['Month'].map(lambda d: d[-2:])\n",
    "monthwise_avg = residuals.groupby(by=month).aggregate(['mean'])\n",
    "\n",
    "nb_years = 1970-1963+1\n",
    "\n",
    "seasonalComp = np.array([monthwise_avg.as_matrix()]*nb_years).reshape((12*nb_years,))"
   ]
  },
  {
   "cell_type": "code",
   "execution_count": 119,
   "metadata": {},
   "outputs": [],
   "source": [
    "irr_var = air_miles['Air miles flown'] / (trendComp * seasonalComp)"
   ]
  },
  {
   "cell_type": "code",
   "execution_count": 121,
   "metadata": {},
   "outputs": [
    {
     "data": {
      "image/png": "[encoded data removed]",
      "text/plain": [
       "<Figure size 396x396 with 4 Axes>"
      ]
     },
     "metadata": {
      "needs_background": "light"
     },
     "output_type": "display_data"
    }
   ],
   "source": [
    "fig, axarr = plt.subplots(4, sharex=True)\n",
    "fig.set_size_inches(5.5, 5.5)\n",
    "\n",
    "air_miles['Air miles flown'].plot(ax=axarr[0], color='b', linestyle='-')\n",
    "axarr[0].set_title('Monthly air miles')\n",
    "\n",
    "pd.Series(data=trendComp, index=air_miles.index).plot(ax=axarr[1], color='r', linestyle='-')\n",
    "axarr[1].set_title('Trend component in monthly air miles')\n",
    "\n",
    "pd.Series(data=seasonalComp, index=air_miles.index).plot(ax=axarr[2], color='g', linestyle='-')\n",
    "axarr[2].set_title('Seasonal component in monthly air miles')\n",
    "\n",
    "pd.Series(data=irr_var, index=air_miles.index).plot(ax=axarr[3], color='k', linestyle='-')\n",
    "axarr[3].set_title('Irregular variations in monthly air miles')\n",
    "\n",
    "plt.tight_layout(pad=0.4, w_pad=0.5, h_pad=2.0)\n"
   ]
  },
  {
   "cell_type": "code",
   "execution_count": 122,
   "metadata": {},
   "outputs": [
    {
     "name": "stdout",
     "output_type": "stream",
     "text": [
      "Test statistic          -4.525967\n",
      "p-value                  0.000176\n",
      "Lags used                3.000000\n",
      "No. of obs              80.000000\n",
      "Critical value (1%)     -3.514869\n",
      "Critical value (5%)     -2.898409\n",
      "Critical value (10%)    -2.586439\n",
      "dtype: float64\n"
     ]
    }
   ],
   "source": [
    "dftest = stattools.adfuller(irr_var.loc[~pd.isnull(irr_var)], autolag='AIC')\n",
    "df_output = pd.Series(dftest[0:4], index=['Test statistic', 'p-value', 'Lags used', 'No. of obs'])\n",
    "    # Appending critical values to the df_output series \n",
    "for item, value in dftest[4].items():\n",
    "    df_output['Critical value (%s)'%item] = value\n",
    "print(df_output)"
   ]
  },
  {
   "cell_type": "markdown",
   "metadata": {},
   "source": [
    "### Time series decomposition using `statsmodels`"
   ]
  },
  {
   "cell_type": "code",
   "execution_count": 123,
   "metadata": {},
   "outputs": [
    {
     "data": {
      "text/html": [
       "<div>\n",
       "<style scoped>\n",
       "    .dataframe tbody tr th:only-of-type {\n",
       "        vertical-align: middle;\n",
       "    }\n",
       "\n",
       "    .dataframe tbody tr th {\n",
       "        vertical-align: top;\n",
       "    }\n",
       "\n",
       "    .dataframe thead th {\n",
       "        text-align: right;\n",
       "    }\n",
       "</style>\n",
       "<table border=\"1\" class=\"dataframe\">\n",
       "  <thead>\n",
       "    <tr style=\"text-align: right;\">\n",
       "      <th></th>\n",
       "      <th>Month</th>\n",
       "      <th>Employment</th>\n",
       "    </tr>\n",
       "    <tr>\n",
       "      <th>Month</th>\n",
       "      <th></th>\n",
       "      <th></th>\n",
       "    </tr>\n",
       "  </thead>\n",
       "  <tbody>\n",
       "    <tr>\n",
       "      <th>1961-01</th>\n",
       "      <td>1961-01</td>\n",
       "      <td>239.6</td>\n",
       "    </tr>\n",
       "    <tr>\n",
       "      <th>1961-02</th>\n",
       "      <td>1961-02</td>\n",
       "      <td>236.4</td>\n",
       "    </tr>\n",
       "    <tr>\n",
       "      <th>1961-03</th>\n",
       "      <td>1961-03</td>\n",
       "      <td>236.8</td>\n",
       "    </tr>\n",
       "    <tr>\n",
       "      <th>1961-04</th>\n",
       "      <td>1961-04</td>\n",
       "      <td>241.5</td>\n",
       "    </tr>\n",
       "    <tr>\n",
       "      <th>1961-05</th>\n",
       "      <td>1961-05</td>\n",
       "      <td>243.7</td>\n",
       "    </tr>\n",
       "  </tbody>\n",
       "</table>\n",
       "</div>"
      ],
      "text/plain": [
       "           Month  Employment\n",
       "Month                       \n",
       "1961-01  1961-01       239.6\n",
       "1961-02  1961-02       236.4\n",
       "1961-03  1961-03       236.8\n",
       "1961-04  1961-04       241.5\n",
       "1961-05  1961-05       243.7"
      ]
     },
     "execution_count": 123,
     "metadata": {},
     "output_type": "execute_result"
    }
   ],
   "source": [
    "wisc_emp = pd.read_csv('https://raw.githubusercontent.com/sri-spirited/Practical-Time-Series-Analysis-Python/master/Data%20Files/wisconsin-employment-time-series.csv')\n",
    "wisc_emp.index = wisc_emp['Month']\n",
    "wisc_emp.head()"
   ]
  },
  {
   "cell_type": "code",
   "execution_count": 124,
   "metadata": {},
   "outputs": [
    {
     "name": "stdout",
     "output_type": "stream",
     "text": [
      "(178, 2)\n",
      "(178, 2)\n"
     ]
    }
   ],
   "source": [
    "# missing = (pd.isnull(wisc_emp['Employment'])) | (pd.isnull(wisc_emp['Month']))\n",
    "print(wisc_emp.shape)\n",
    "wisc_emp = wisc_emp.loc[~(pd.isnull(wisc_emp['Employment'])) | (pd.isnull(wisc_emp['Month'])), :]\n",
    "print(wisc_emp.shape)"
   ]
  },
  {
   "cell_type": "code",
   "execution_count": 126,
   "metadata": {},
   "outputs": [
    {
     "data": {
      "text/plain": [
       "Month          object\n",
       "Employment    float64\n",
       "dtype: object"
      ]
     },
     "execution_count": 126,
     "metadata": {},
     "output_type": "execute_result"
    }
   ],
   "source": [
    "wisc_emp.dtypes"
   ]
  },
  {
   "cell_type": "code",
   "execution_count": 127,
   "metadata": {},
   "outputs": [
    {
     "name": "stdout",
     "output_type": "stream",
     "text": [
      "Test statistic            0.386943\n",
      "p-value                   0.981000\n",
      "Lags used                13.000000\n",
      "No. of obs              164.000000\n",
      "Critical value (1%)      -3.470866\n",
      "Critical value (5%)      -2.879330\n",
      "Critical value (10%)     -2.576255\n",
      "dtype: float64\n"
     ]
    }
   ],
   "source": [
    "dftest = stattools.adfuller(wisc_emp['Employment'], autolag='AIC')\n",
    "df_output = pd.Series(dftest[0:4], index=['Test statistic', 'p-value', 'Lags used', 'No. of obs'])\n",
    "    # Appending critical values to the df_output series \n",
    "for item, value in dftest[4].items():\n",
    "    df_output['Critical value (%s)'%item] = value\n",
    "print(df_output)"
   ]
  },
  {
   "cell_type": "code",
   "execution_count": 129,
   "metadata": {},
   "outputs": [],
   "source": [
    "from statsmodels.tsa import seasonal"
   ]
  },
  {
   "cell_type": "code",
   "execution_count": 130,
   "metadata": {},
   "outputs": [],
   "source": [
    "decompose_model = seasonal.seasonal_decompose(wisc_emp.Employment.tolist(), freq=12, model='additive')"
   ]
  },
  {
   "cell_type": "code",
   "execution_count": 131,
   "metadata": {},
   "outputs": [
    {
     "data": {
      "text/plain": [
       "(array([-25.,   0.,  25.,  50.,  75., 100., 125., 150., 175., 200.]),\n",
       " <a list of 10 Text xticklabel objects>)"
      ]
     },
     "execution_count": 131,
     "metadata": {},
     "output_type": "execute_result"
    },
    {
     "data": {
      "image/png": "[encoded data removed]",
      "text/plain": [
       "<Figure size 396x396 with 4 Axes>"
      ]
     },
     "metadata": {
      "needs_background": "light"
     },
     "output_type": "display_data"
    }
   ],
   "source": [
    "fig, axarr = plt.subplots(4, sharex=True)\n",
    "fig.set_size_inches(5.5, 5.5)\n",
    "\n",
    "wisc_emp['Employment'].plot(ax=axarr[0], color='b', linestyle='-')\n",
    "axarr[0].set_title('Monthly Employment')\n",
    "\n",
    "pd.Series(data=decompose_model.trend, index=wisc_emp.index).plot(color='r', linestyle='-', ax=axarr[1])\n",
    "axarr[1].set_title('Trend component in monthly employment')\n",
    "\n",
    "pd.Series(data=decompose_model.seasonal, index=wisc_emp.index).plot(color='g', linestyle='-', ax=axarr[2]) \n",
    "axarr[2].set_title('Seasonal component in monthly employment')\n",
    "\n",
    "pd.Series(data=decompose_model.resid, index=wisc_emp.index).plot(color='k', linestyle='-', ax=axarr[3])\n",
    "axarr[3].set_title('Irregular variations in monthly employment')\n",
    "\n",
    "plt.tight_layout(pad=0.4, w_pad=0.5, h_pad=2.0)\n",
    "plt.xticks(rotation=10)"
   ]
  },
  {
   "cell_type": "code",
   "execution_count": 133,
   "metadata": {},
   "outputs": [
    {
     "name": "stdout",
     "output_type": "stream",
     "text": [
      "Test statistic           -3.560581\n",
      "p-value                   0.006561\n",
      "Lags used                13.000000\n",
      "No. of obs              152.000000\n",
      "Critical value (1%)      -3.474121\n",
      "Critical value (5%)      -2.880750\n",
      "Critical value (10%)     -2.577013\n",
      "dtype: float64\n"
     ]
    }
   ],
   "source": [
    "dftest = stattools.adfuller(decompose_model.resid[np.where(np.isfinite(decompose_model.resid))], autolag='AIC')\n",
    "df_output = pd.Series(dftest[0:4], index=['Test statistic', 'p-value', 'Lags used', 'No. of obs'])\n",
    "    # Appending critical values to the df_output series \n",
    "for item, value in dftest[4].items():\n",
    "    df_output['Critical value (%s)'%item] = value\n",
    "print(df_output)"
   ]
  },
  {
   "cell_type": "code",
   "execution_count": 134,
   "metadata": {},
   "outputs": [],
   "source": [
    "decompose_model = seasonal.seasonal_decompose(wisc_emp.Employment.tolist(), freq=12, model='multiplicative')"
   ]
  },
  {
   "cell_type": "code",
   "execution_count": 136,
   "metadata": {},
   "outputs": [
    {
     "data": {
      "text/plain": [
       "(array([-25.,   0.,  25.,  50.,  75., 100., 125., 150., 175., 200.]),\n",
       " <a list of 10 Text xticklabel objects>)"
      ]
     },
     "execution_count": 136,
     "metadata": {},
     "output_type": "execute_result"
    },
    {
     "data": {
      "image/png": "[encoded data removed]",
      "text/plain": [
       "<Figure size 396x396 with 4 Axes>"
      ]
     },
     "metadata": {
      "needs_background": "light"
     },
     "output_type": "display_data"
    }
   ],
   "source": [
    "fig, axarr = plt.subplots(4, sharex=True)\n",
    "fig.set_size_inches(5.5, 5.5)\n",
    "\n",
    "wisc_emp['Employment'].plot(ax=axarr[0], color='b', linestyle='-')\n",
    "axarr[0].set_title('Monthly Employment')\n",
    "\n",
    "axarr[1].plot(decompose_model.trend, color='r', linestyle='-')\n",
    "axarr[1].set_title('Trend component in monthly employment')\n",
    "\n",
    "axarr[2].plot(decompose_model.seasonal, color='g', linestyle='-')\n",
    "axarr[2].set_title('Seasonal component in monthly employment')\n",
    "\n",
    "axarr[3].plot(decompose_model.resid, color='k', linestyle='-')\n",
    "axarr[3].set_title('Irregular variations in monthly employment')\n",
    "\n",
    "plt.tight_layout(pad=0.4, w_pad=0.5, h_pad=2.0)\n",
    "plt.xticks(rotation=10)"
   ]
  },
  {
   "cell_type": "code",
   "execution_count": 137,
   "metadata": {},
   "outputs": [
    {
     "name": "stdout",
     "output_type": "stream",
     "text": [
      "Test statistic           -4.035680\n",
      "p-value                   0.001235\n",
      "Lags used                13.000000\n",
      "No. of obs              152.000000\n",
      "Critical value (1%)      -3.474121\n",
      "Critical value (5%)      -2.880750\n",
      "Critical value (10%)     -2.577013\n",
      "dtype: float64\n"
     ]
    }
   ],
   "source": [
    "dftest = stattools.adfuller(decompose_model.resid[np.where(np.isfinite(decompose_model.resid))], autolag='AIC')\n",
    "df_output = pd.Series(dftest[0:4], index=['Test statistic', 'p-value', 'Lags used', 'No. of obs'])\n",
    "    # Appending critical values to the df_output series \n",
    "for item, value in dftest[4].items():\n",
    "    df_output['Critical value (%s)'%item] = value\n",
    "print(df_output)"
   ]
  },
  {
   "cell_type": "code",
   "execution_count": null,
   "metadata": {},
   "outputs": [],
   "source": []
  }
 ],
 "metadata": {
  "kernelspec": {
   "display_name": "Python 3",
   "language": "python",
   "name": "python3"
  },
  "language_info": {
   "codemirror_mode": {
    "name": "ipython",
    "version": 3
   },
   "file_extension": ".py",
   "mimetype": "text/x-python",
   "name": "python",
   "nbconvert_exporter": "python",
   "pygments_lexer": "ipython3",
   "version": "3.7.1"
  }
 },
 "nbformat": 4,
 "nbformat_minor": 2
}
